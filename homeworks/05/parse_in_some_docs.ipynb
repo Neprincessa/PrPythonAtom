{
 "cells": [
  {
   "cell_type": "code",
   "execution_count": 1,
   "metadata": {},
   "outputs": [],
   "source": [
    "import requests\n",
    "from bs4 import BeautifulSoup\n",
    "import json\n",
    "import re\n",
    "import pandas as pd\n",
    "import numpy as np\n",
    "from user_agent import generate_user_agent\n",
    "import selenium\n",
    "from selenium.common.exceptions import NoSuchElementException, WebDriverException\n",
    "from selenium.webdriver.common.keys import Keys\n",
    "from selenium.webdriver import Chrome\n",
    "import csv"
   ]
  },
  {
   "cell_type": "code",
   "execution_count": 2,
   "metadata": {},
   "outputs": [],
   "source": [
    "def write_csv(data, index): \n",
    "    with open(str(index)+'_Films.csv','a') as f: \n",
    "        writer = csv.writer(f)\n",
    "        for i in data:\n",
    "            writer.writerow(i)"
   ]
  },
  {
   "cell_type": "code",
   "execution_count": 3,
   "metadata": {},
   "outputs": [],
   "source": [
    "def get_films_less_amount(currentId, maxInd):\n",
    "    browser = Chrome(executable_path = \"chromedriver\")\n",
    "    browser.get(\"https://megogo.ru/ru/films/main\")\n",
    "    currentList = []\n",
    "    clickTarget = browser.find_element_by_xpath('''//*[@id=\"'''+currentId+'''\"]/div/a[2]''')\n",
    "    for i in range(4):\n",
    "        element_name = browser.find_element_by_xpath('''//*[@id=\"'''+currentId+'''\"]/div/div/div[''' + str(i+1) + ''']/div[2]/a/h3''')\n",
    "        element_year = browser.find_element_by_xpath('''//*[@id=\"'''+currentId+'''\"]/div/div/div[''' + str(i+1) + ''']/div[2]/div[1]/span[1]''')\n",
    "        element_genre = browser.find_element_by_xpath('''//*[@id=\"'''+currentId+'''\"]/div/div/div[''' + str(i+1) + ''']/div[2]/div[1]/span[2]''')\n",
    "        currentList.append((element_name.text, element_year.text, element_genre.text))\n",
    "    clickTarget.click()\n",
    "    for i in range(5,maxInd-1):\n",
    "        element_name = browser.find_element_by_xpath('''//*[@id=\"'''+currentId+'''\"]/div/div/div[''' + str(i+1) + ''']/div[2]/a/h3''')\n",
    "        element_year = browser.find_element_by_xpath('''//*[@id=\"'''+currentId+'''\"]/div/div/div[''' + str(i+1) + ''']/div[2]/div[1]/span[1]''')\n",
    "        element_genre = browser.find_element_by_xpath('''//*[@id=\"'''+currentId+'''\"]/div/div/div[''' + str(i+1) + ''']/div[2]/div[1]/span[2]''')\n",
    "        currentList.append((element_name.text, element_year.text, element_genre.text))\n",
    "    print(currentList)\n",
    "    return currentList"
   ]
  },
  {
   "cell_type": "code",
   "execution_count": 8,
   "metadata": {},
   "outputs": [
    {
     "name": "stdout",
     "output_type": "stream",
     "text": [
      "[('Сделано в Америке', '2017', 'Криминал'), ('Роковое искушение', '2017', 'Драмы'), ('Трудный ребенок', '1990', 'Комедии'), ('Книга Генри', '2017', 'Криминал'), ('Горы и камни', '2017', 'Драмы'), ('Страж', '1990', 'Детективы'), ('Поймай толстуху, если сможешь', '2013', 'Комедии'), ('Пипец 2', '2013', 'Комедии'), ('Отвези меня домой', '2011', 'Комедии'), ('Плакса', '1990', 'Мюзиклы'), ('Участь женщины', '2001', 'Драмы'), ('Психо 2', '1983', 'Детективы'), ('Хеллбой II: Золотая армия', '2008', 'Приключения'), ('Чокнутый профессор 2: Семья Клампов', '2000', 'Фантастика'), ('Рэй', '2004', 'Драмы'), ('Земля до начала времен', '1988', 'Приключения'), ('Челюсти', '1975', 'Приключения'), ('Челюсти 2', '1978', 'Приключения'), ('Челюсти 3', '1983', 'Приключения'), ('Круклин', '1994', 'Комедии')]\n",
      "[('Опасная игра Слоун', '2018', 'Драмы'), ('Опасный бизнес', '2018', 'Комедии'), ('Дыши во мгле', '2018', 'Приключения'), ('Сердце из стали', '2017', 'Боевики'), ('Такси 5', '2018', 'Комедии'), ('Пассажир', '2018', 'Боевики'), ('Эскобар', '2018', 'Криминал'), ('Все деньги мира', '2018', 'Детективы'), ('Дикие предки', '2018', 'Приключения'), ('Редкая бабочка', '2018', 'Комедии'), ('Операция «Шаровая молния»', '2018', 'Криминал'), ('От семьи не убежишь', '2018', 'Комедии'), ('Кавалерия', '2018', 'Драмы'), ('Тоня против всех', '2017', 'Комедии'), ('Невероятная история о гигантской груше', '2018', 'Полнометражные'), ('О чём говорят мужчины. Продолжение', '2018', 'Комедии'), ('Винчестер. Дом, который построили призраки', '2018', 'Детективы'), ('Охота на воров', '2018', 'Боевики'), ('Валериан и город тысячи планет', '2017', 'Боевики'), ('Гоголь. Вий', '2018', 'Приключения')]\n"
     ]
    }
   ],
   "source": [
    "def get_films(currentId):\n",
    "    browser = Chrome(executable_path = \"chromedriver\")\n",
    "    browser.get(\"https://megogo.ru/ru/films/main\")\n",
    "    currentList = []\n",
    "    clickTarget = browser.find_element_by_xpath('''//*[@id=\"'''+currentId+'''\"]/div/a[2]''')\n",
    "    for i in range(4):\n",
    "        element_name = browser.find_element_by_xpath('''//*[@id=\"'''+currentId+'''\"]/div/div/div[''' + str(i+1) + ''']/div[2]/a/h3''')\n",
    "        element_year = browser.find_element_by_xpath('''//*[@id=\"'''+currentId+'''\"]/div/div/div[''' + str(i+1) + ''']/div[2]/div[1]/span[1]''')\n",
    "        element_genre = browser.find_element_by_xpath('''//*[@id=\"'''+currentId+'''\"]/div/div/div[''' + str(i+1) + ''']/div[2]/div[1]/span[2]''')\n",
    "        currentList.append((element_name.text, element_year.text, element_genre.text))\n",
    "    clickTarget.click()\n",
    "    for i in range(5,9):\n",
    "        element_name = browser.find_element_by_xpath('''//*[@id=\"'''+currentId+'''\"]/div/div/div[''' + str(i+1) + ''']/div[2]/a/h3''')\n",
    "        element_year = browser.find_element_by_xpath('''//*[@id=\"'''+currentId+'''\"]/div/div/div[''' + str(i+1) + ''']/div[2]/div[1]/span[1]''')\n",
    "        element_genre = browser.find_element_by_xpath('''//*[@id=\"'''+currentId+'''\"]/div/div/div[''' + str(i+1) + ''']/div[2]/div[1]/span[2]''')\n",
    "        currentList.append((element_name.text, element_year.text, element_genre.text))\n",
    "    \n",
    "    clickTarget.click()\n",
    "    for i in range(10,14):\n",
    "        element_name = browser.find_element_by_xpath('''//*[@id=\"'''+currentId+'''\"]/div/div/div[''' + str(i+1) + ''']/div[2]/a/h3''')\n",
    "        element_year = browser.find_element_by_xpath('''//*[@id=\"'''+currentId+'''\"]/div/div/div[''' + str(i+1) + ''']/div[2]/div[1]/span[1]''')\n",
    "        element_genre = browser.find_element_by_xpath('''//*[@id=\"'''+currentId+'''\"]/div/div/div[''' + str(i+1) + ''']/div[2]/div[1]/span[2]''')\n",
    "        currentList.append((element_name.text, element_year.text, element_genre.text))\n",
    "    \n",
    "    clickTarget.click()\n",
    "    for i in range(15,19):\n",
    "        element_name = browser.find_element_by_xpath('''//*[@id=\"'''+currentId+'''\"]/div/div/div[''' + str(i+1) + ''']/div[2]/a/h3''')\n",
    "        element_year = browser.find_element_by_xpath('''//*[@id=\"'''+currentId+'''\"]/div/div/div[''' + str(i+1) + ''']/div[2]/div[1]/span[1]''')\n",
    "        element_genre = browser.find_element_by_xpath('''//*[@id=\"'''+currentId+'''\"]/div/div/div[''' + str(i+1) + ''']/div[2]/div[1]/span[2]''')\n",
    "        currentList.append((element_name.text, element_year.text, element_genre.text))\n",
    "    \n",
    "    clickTarget.click()\n",
    "    for i in range(20,24):\n",
    "        element_name = browser.find_element_by_xpath('''//*[@id=\"'''+currentId+'''\"]/div/div/div[''' + str(i+1) + ''']/div[2]/a/h3''')\n",
    "        element_year = browser.find_element_by_xpath('''//*[@id=\"'''+currentId+'''\"]/div/div/div[''' + str(i+1) + ''']/div[2]/div[1]/span[1]''')\n",
    "        element_genre = browser.find_element_by_xpath('''//*[@id=\"'''+currentId+'''\"]/div/div/div[''' + str(i+1) + ''']/div[2]/div[1]/span[2]''')\n",
    "        currentList.append((element_name.text, element_year.text, element_genre.text))\n",
    "    \n",
    "    print(currentList)\n",
    "    return currentList\n",
    "\n",
    "write_csv(get_films('widget_11Videos_48801'),1)\n",
    "write_csv(get_films('widget_11Videos_37501'),2)\n",
    "#write_csv(get_films_less_amount('widget_11Videos_65211',9),3)\n",
    "#write_csv(get_films_less_amount('widget_11Videos_64541',7),4)\n",
    "#write_csv(get_films_less_amount('widget_11Videos_66051',9),5)\n",
    "#write_csv(get_films_less_amount('widget_11Videos_66981',6),6)\n",
    "#write_csv(get_films('widget_11Videos_41431'),7)"
   ]
  },
  {
   "cell_type": "code",
   "execution_count": 11,
   "metadata": {},
   "outputs": [],
   "source": [
    "def unicode_csv_reader(utf8_data, dialect=csv.excel, **kwargs):\n",
    "    csv_reader = csv.reader(utf8_data, dialect=dialect, **kwargs)\n",
    "    for row in csv_reader:\n",
    "        yield [unicode(cell, 'utf-8') for cell in row]\n",
    "\n",
    "filename = 'first_Films.csv'\n",
    "\n",
    "reader = unicode_csv_reader(open(filename))"
   ]
  },
  {
   "cell_type": "code",
   "execution_count": 12,
   "metadata": {},
   "outputs": [],
   "source": [
    "def write_csv(data):\n",
    "    with open('first_Films.csv', 'a', encoding='utf-8') as f:\n",
    "        writer = csv.writer(f)\n",
    "        writer.writerow( (data['Название'],\n",
    "                          data['Год'],\n",
    "                          data['Жанр']) )"
   ]
  },
  {
   "cell_type": "code",
   "execution_count": null,
   "metadata": {},
   "outputs": [],
   "source": []
  }
 ],
 "metadata": {
  "kernelspec": {
   "display_name": "Python 3",
   "language": "python",
   "name": "python3"
  },
  "language_info": {
   "codemirror_mode": {
    "name": "ipython",
    "version": 3
   },
   "file_extension": ".py",
   "mimetype": "text/x-python",
   "name": "python",
   "nbconvert_exporter": "python",
   "pygments_lexer": "ipython3",
   "version": "3.6.5"
  }
 },
 "nbformat": 4,
 "nbformat_minor": 2
}
