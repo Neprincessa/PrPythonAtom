{
 "cells": [
  {
   "cell_type": "code",
   "execution_count": 1,
   "metadata": {},
   "outputs": [],
   "source": [
    "import requests\n",
    "from bs4 import BeautifulSoup\n",
    "import json\n",
    "import re\n",
    "import pandas as pd\n",
    "import numpy as np\n",
    "from user_agent import generate_user_agent\n",
    "import selenium\n",
    "from selenium.common.exceptions import NoSuchElementException, WebDriverException\n",
    "from selenium.webdriver.common.keys import Keys\n",
    "from selenium.webdriver import Chrome\n",
    "import csv"
   ]
  },
  {
   "cell_type": "code",
   "execution_count": 2,
   "metadata": {},
   "outputs": [],
   "source": [
    "def write_csv(data, index): \n",
    "    with open(str(index)+'_Films.xls','a') as f: \n",
    "        writer = csv.writer(f)\n",
    "        for i in data:\n",
    "            writer.writerow(i)"
   ]
  },
  {
   "cell_type": "code",
   "execution_count": 3,
   "metadata": {},
   "outputs": [],
   "source": [
    "def get_films_less_amount(currentId, maxInd):\n",
    "    browser = Chrome(executable_path = \"chromedriver\")\n",
    "    browser.get(\"https://megogo.ru/ru/films/main\")\n",
    "    currentList = []\n",
    "    clickTarget = browser.find_element_by_xpath('''//*[@id=\"'''+currentId+'''\"]/div/a[2]''')\n",
    "    for i in range(4):\n",
    "        element_name = browser.find_element_by_xpath('''//*[@id=\"'''+currentId+'''\"]/div/div/div[''' + str(i+1) + ''']/div[2]/a/h3''')\n",
    "        element_year = browser.find_element_by_xpath('''//*[@id=\"'''+currentId+'''\"]/div/div/div[''' + str(i+1) + ''']/div[2]/div[1]/span[1]''')\n",
    "        element_genre = browser.find_element_by_xpath('''//*[@id=\"'''+currentId+'''\"]/div/div/div[''' + str(i+1) + ''']/div[2]/div[1]/span[2]''')\n",
    "        currentList.append((element_name.text, element_year.text, element_genre.text))\n",
    "    clickTarget.click()\n",
    "    for i in range(5,maxInd-1):\n",
    "        element_name = browser.find_element_by_xpath('''//*[@id=\"'''+currentId+'''\"]/div/div/div[''' + str(i+1) + ''']/div[2]/a/h3''')\n",
    "        element_year = browser.find_element_by_xpath('''//*[@id=\"'''+currentId+'''\"]/div/div/div[''' + str(i+1) + ''']/div[2]/div[1]/span[1]''')\n",
    "        element_genre = browser.find_element_by_xpath('''//*[@id=\"'''+currentId+'''\"]/div/div/div[''' + str(i+1) + ''']/div[2]/div[1]/span[2]''')\n",
    "        currentList.append((element_name.text, element_year.text, element_genre.text))\n",
    "    print(currentList)\n",
    "    return currentList"
   ]
  },
  {
   "cell_type": "code",
   "execution_count": 5,
   "metadata": {},
   "outputs": [
    {
     "name": "stdout",
     "output_type": "stream",
     "text": [
      "[('Сделано в Америке', '2017', 'Криминал'), ('Роковое искушение', '2017', 'Драмы'), ('Трудный ребенок', '1990', 'Комедии'), ('Книга Генри', '2017', 'Криминал'), ('Горы и камни', '2017', 'Драмы'), ('Страж', '1990', 'Детективы'), ('Поймай толстуху, если сможешь', '2013', 'Комедии'), ('Пипец 2', '2013', 'Комедии'), ('Отвези меня домой', '2011', 'Комедии'), ('Плакса', '1990', 'Мюзиклы'), ('Участь женщины', '2001', 'Драмы'), ('Психо 2', '1983', 'Детективы'), ('Хеллбой II: Золотая армия', '2008', 'Приключения'), ('Чокнутый профессор 2: Семья Клампов', '2000', 'Фантастика'), ('Рэй', '2004', 'Драмы'), ('Земля до начала времен', '1988', 'Приключения'), ('Челюсти', '1975', 'Приключения'), ('Челюсти 2', '1978', 'Приключения'), ('Челюсти 3', '1983', 'Приключения'), ('Круклин', '1994', 'Комедии')]\n"
     ]
    },
    {
     "ename": "NoSuchWindowException",
     "evalue": "Message: no such window: target window already closed\nfrom unknown error: web view not found\n  (Session info: chrome=70.0.3538.102)\n  (Driver info: chromedriver=2.43.600210 (68dcf5eebde37173d4027fa8635e332711d2874a),platform=Windows NT 10.0.17134 x86_64)\n",
     "output_type": "error",
     "traceback": [
      "\u001b[1;31m---------------------------------------------------------------------------\u001b[0m",
      "\u001b[1;31mNoSuchWindowException\u001b[0m                     Traceback (most recent call last)",
      "\u001b[1;32m<ipython-input-5-fd670f5b3d26>\u001b[0m in \u001b[0;36m<module>\u001b[1;34m()\u001b[0m\n\u001b[0;32m     41\u001b[0m \u001b[1;33m\u001b[0m\u001b[0m\n\u001b[0;32m     42\u001b[0m \u001b[0mwrite_csv\u001b[0m\u001b[1;33m(\u001b[0m\u001b[0mget_films\u001b[0m\u001b[1;33m(\u001b[0m\u001b[1;34m'widget_11Videos_48801'\u001b[0m\u001b[1;33m)\u001b[0m\u001b[1;33m,\u001b[0m\u001b[1;36m1\u001b[0m\u001b[1;33m)\u001b[0m\u001b[1;33m\u001b[0m\u001b[0m\n\u001b[1;32m---> 43\u001b[1;33m \u001b[0mwrite_csv\u001b[0m\u001b[1;33m(\u001b[0m\u001b[0mget_films\u001b[0m\u001b[1;33m(\u001b[0m\u001b[1;34m'widget_11Videos_37501'\u001b[0m\u001b[1;33m)\u001b[0m\u001b[1;33m,\u001b[0m\u001b[1;36m2\u001b[0m\u001b[1;33m)\u001b[0m\u001b[1;33m\u001b[0m\u001b[0m\n\u001b[0m\u001b[0;32m     44\u001b[0m \u001b[1;31m#write_csv(get_films_less_amount('widget_11Videos_65211',9),3)\u001b[0m\u001b[1;33m\u001b[0m\u001b[1;33m\u001b[0m\u001b[0m\n\u001b[0;32m     45\u001b[0m \u001b[1;31m#write_csv(get_films_less_amount('widget_11Videos_64541',7),4)\u001b[0m\u001b[1;33m\u001b[0m\u001b[1;33m\u001b[0m\u001b[0m\n",
      "\u001b[1;32m<ipython-input-5-fd670f5b3d26>\u001b[0m in \u001b[0;36mget_films\u001b[1;34m(currentId)\u001b[0m\n\u001b[0;32m      3\u001b[0m     \u001b[0mbrowser\u001b[0m\u001b[1;33m.\u001b[0m\u001b[0mget\u001b[0m\u001b[1;33m(\u001b[0m\u001b[1;34m\"https://megogo.ru/ru/films/main\"\u001b[0m\u001b[1;33m)\u001b[0m\u001b[1;33m\u001b[0m\u001b[0m\n\u001b[0;32m      4\u001b[0m     \u001b[0mcurrentList\u001b[0m \u001b[1;33m=\u001b[0m \u001b[1;33m[\u001b[0m\u001b[1;33m]\u001b[0m\u001b[1;33m\u001b[0m\u001b[0m\n\u001b[1;32m----> 5\u001b[1;33m     \u001b[0mclickTarget\u001b[0m \u001b[1;33m=\u001b[0m \u001b[0mbrowser\u001b[0m\u001b[1;33m.\u001b[0m\u001b[0mfind_element_by_xpath\u001b[0m\u001b[1;33m(\u001b[0m\u001b[1;34m'''//*[@id=\"'''\u001b[0m\u001b[1;33m+\u001b[0m\u001b[0mcurrentId\u001b[0m\u001b[1;33m+\u001b[0m\u001b[1;34m'''\"]/div/a[2]'''\u001b[0m\u001b[1;33m)\u001b[0m\u001b[1;33m\u001b[0m\u001b[0m\n\u001b[0m\u001b[0;32m      6\u001b[0m     \u001b[1;32mfor\u001b[0m \u001b[0mi\u001b[0m \u001b[1;32min\u001b[0m \u001b[0mrange\u001b[0m\u001b[1;33m(\u001b[0m\u001b[1;36m4\u001b[0m\u001b[1;33m)\u001b[0m\u001b[1;33m:\u001b[0m\u001b[1;33m\u001b[0m\u001b[0m\n\u001b[0;32m      7\u001b[0m         \u001b[0melement_name\u001b[0m \u001b[1;33m=\u001b[0m \u001b[0mbrowser\u001b[0m\u001b[1;33m.\u001b[0m\u001b[0mfind_element_by_xpath\u001b[0m\u001b[1;33m(\u001b[0m\u001b[1;34m'''//*[@id=\"'''\u001b[0m\u001b[1;33m+\u001b[0m\u001b[0mcurrentId\u001b[0m\u001b[1;33m+\u001b[0m\u001b[1;34m'''\"]/div/div/div['''\u001b[0m \u001b[1;33m+\u001b[0m \u001b[0mstr\u001b[0m\u001b[1;33m(\u001b[0m\u001b[0mi\u001b[0m\u001b[1;33m+\u001b[0m\u001b[1;36m1\u001b[0m\u001b[1;33m)\u001b[0m \u001b[1;33m+\u001b[0m \u001b[1;34m''']/div[2]/a/h3'''\u001b[0m\u001b[1;33m)\u001b[0m\u001b[1;33m\u001b[0m\u001b[0m\n",
      "\u001b[1;32m~\\Anaconda3\\lib\\site-packages\\selenium\\webdriver\\remote\\webdriver.py\u001b[0m in \u001b[0;36mfind_element_by_xpath\u001b[1;34m(self, xpath)\u001b[0m\n\u001b[0;32m    392\u001b[0m             \u001b[0melement\u001b[0m \u001b[1;33m=\u001b[0m \u001b[0mdriver\u001b[0m\u001b[1;33m.\u001b[0m\u001b[0mfind_element_by_xpath\u001b[0m\u001b[1;33m(\u001b[0m\u001b[1;34m'//div/td[1]'\u001b[0m\u001b[1;33m)\u001b[0m\u001b[1;33m\u001b[0m\u001b[0m\n\u001b[0;32m    393\u001b[0m         \"\"\"\n\u001b[1;32m--> 394\u001b[1;33m         \u001b[1;32mreturn\u001b[0m \u001b[0mself\u001b[0m\u001b[1;33m.\u001b[0m\u001b[0mfind_element\u001b[0m\u001b[1;33m(\u001b[0m\u001b[0mby\u001b[0m\u001b[1;33m=\u001b[0m\u001b[0mBy\u001b[0m\u001b[1;33m.\u001b[0m\u001b[0mXPATH\u001b[0m\u001b[1;33m,\u001b[0m \u001b[0mvalue\u001b[0m\u001b[1;33m=\u001b[0m\u001b[0mxpath\u001b[0m\u001b[1;33m)\u001b[0m\u001b[1;33m\u001b[0m\u001b[0m\n\u001b[0m\u001b[0;32m    395\u001b[0m \u001b[1;33m\u001b[0m\u001b[0m\n\u001b[0;32m    396\u001b[0m     \u001b[1;32mdef\u001b[0m \u001b[0mfind_elements_by_xpath\u001b[0m\u001b[1;33m(\u001b[0m\u001b[0mself\u001b[0m\u001b[1;33m,\u001b[0m \u001b[0mxpath\u001b[0m\u001b[1;33m)\u001b[0m\u001b[1;33m:\u001b[0m\u001b[1;33m\u001b[0m\u001b[0m\n",
      "\u001b[1;32m~\\Anaconda3\\lib\\site-packages\\selenium\\webdriver\\remote\\webdriver.py\u001b[0m in \u001b[0;36mfind_element\u001b[1;34m(self, by, value)\u001b[0m\n\u001b[0;32m    976\u001b[0m         return self.execute(Command.FIND_ELEMENT, {\n\u001b[0;32m    977\u001b[0m             \u001b[1;34m'using'\u001b[0m\u001b[1;33m:\u001b[0m \u001b[0mby\u001b[0m\u001b[1;33m,\u001b[0m\u001b[1;33m\u001b[0m\u001b[0m\n\u001b[1;32m--> 978\u001b[1;33m             'value': value})['value']\n\u001b[0m\u001b[0;32m    979\u001b[0m \u001b[1;33m\u001b[0m\u001b[0m\n\u001b[0;32m    980\u001b[0m     \u001b[1;32mdef\u001b[0m \u001b[0mfind_elements\u001b[0m\u001b[1;33m(\u001b[0m\u001b[0mself\u001b[0m\u001b[1;33m,\u001b[0m \u001b[0mby\u001b[0m\u001b[1;33m=\u001b[0m\u001b[0mBy\u001b[0m\u001b[1;33m.\u001b[0m\u001b[0mID\u001b[0m\u001b[1;33m,\u001b[0m \u001b[0mvalue\u001b[0m\u001b[1;33m=\u001b[0m\u001b[1;32mNone\u001b[0m\u001b[1;33m)\u001b[0m\u001b[1;33m:\u001b[0m\u001b[1;33m\u001b[0m\u001b[0m\n",
      "\u001b[1;32m~\\Anaconda3\\lib\\site-packages\\selenium\\webdriver\\remote\\webdriver.py\u001b[0m in \u001b[0;36mexecute\u001b[1;34m(self, driver_command, params)\u001b[0m\n\u001b[0;32m    319\u001b[0m         \u001b[0mresponse\u001b[0m \u001b[1;33m=\u001b[0m \u001b[0mself\u001b[0m\u001b[1;33m.\u001b[0m\u001b[0mcommand_executor\u001b[0m\u001b[1;33m.\u001b[0m\u001b[0mexecute\u001b[0m\u001b[1;33m(\u001b[0m\u001b[0mdriver_command\u001b[0m\u001b[1;33m,\u001b[0m \u001b[0mparams\u001b[0m\u001b[1;33m)\u001b[0m\u001b[1;33m\u001b[0m\u001b[0m\n\u001b[0;32m    320\u001b[0m         \u001b[1;32mif\u001b[0m \u001b[0mresponse\u001b[0m\u001b[1;33m:\u001b[0m\u001b[1;33m\u001b[0m\u001b[0m\n\u001b[1;32m--> 321\u001b[1;33m             \u001b[0mself\u001b[0m\u001b[1;33m.\u001b[0m\u001b[0merror_handler\u001b[0m\u001b[1;33m.\u001b[0m\u001b[0mcheck_response\u001b[0m\u001b[1;33m(\u001b[0m\u001b[0mresponse\u001b[0m\u001b[1;33m)\u001b[0m\u001b[1;33m\u001b[0m\u001b[0m\n\u001b[0m\u001b[0;32m    322\u001b[0m             response['value'] = self._unwrap_value(\n\u001b[0;32m    323\u001b[0m                 response.get('value', None))\n",
      "\u001b[1;32m~\\Anaconda3\\lib\\site-packages\\selenium\\webdriver\\remote\\errorhandler.py\u001b[0m in \u001b[0;36mcheck_response\u001b[1;34m(self, response)\u001b[0m\n\u001b[0;32m    240\u001b[0m                 \u001b[0malert_text\u001b[0m \u001b[1;33m=\u001b[0m \u001b[0mvalue\u001b[0m\u001b[1;33m[\u001b[0m\u001b[1;34m'alert'\u001b[0m\u001b[1;33m]\u001b[0m\u001b[1;33m.\u001b[0m\u001b[0mget\u001b[0m\u001b[1;33m(\u001b[0m\u001b[1;34m'text'\u001b[0m\u001b[1;33m)\u001b[0m\u001b[1;33m\u001b[0m\u001b[0m\n\u001b[0;32m    241\u001b[0m             \u001b[1;32mraise\u001b[0m \u001b[0mexception_class\u001b[0m\u001b[1;33m(\u001b[0m\u001b[0mmessage\u001b[0m\u001b[1;33m,\u001b[0m \u001b[0mscreen\u001b[0m\u001b[1;33m,\u001b[0m \u001b[0mstacktrace\u001b[0m\u001b[1;33m,\u001b[0m \u001b[0malert_text\u001b[0m\u001b[1;33m)\u001b[0m\u001b[1;33m\u001b[0m\u001b[0m\n\u001b[1;32m--> 242\u001b[1;33m         \u001b[1;32mraise\u001b[0m \u001b[0mexception_class\u001b[0m\u001b[1;33m(\u001b[0m\u001b[0mmessage\u001b[0m\u001b[1;33m,\u001b[0m \u001b[0mscreen\u001b[0m\u001b[1;33m,\u001b[0m \u001b[0mstacktrace\u001b[0m\u001b[1;33m)\u001b[0m\u001b[1;33m\u001b[0m\u001b[0m\n\u001b[0m\u001b[0;32m    243\u001b[0m \u001b[1;33m\u001b[0m\u001b[0m\n\u001b[0;32m    244\u001b[0m     \u001b[1;32mdef\u001b[0m \u001b[0m_value_or_default\u001b[0m\u001b[1;33m(\u001b[0m\u001b[0mself\u001b[0m\u001b[1;33m,\u001b[0m \u001b[0mobj\u001b[0m\u001b[1;33m,\u001b[0m \u001b[0mkey\u001b[0m\u001b[1;33m,\u001b[0m \u001b[0mdefault\u001b[0m\u001b[1;33m)\u001b[0m\u001b[1;33m:\u001b[0m\u001b[1;33m\u001b[0m\u001b[0m\n",
      "\u001b[1;31mNoSuchWindowException\u001b[0m: Message: no such window: target window already closed\nfrom unknown error: web view not found\n  (Session info: chrome=70.0.3538.102)\n  (Driver info: chromedriver=2.43.600210 (68dcf5eebde37173d4027fa8635e332711d2874a),platform=Windows NT 10.0.17134 x86_64)\n"
     ]
    }
   ],
   "source": [
    "def get_films(currentId):\n",
    "    browser = Chrome(executable_path = \"chromedriver\")\n",
    "    browser.get(\"https://megogo.ru/ru/films/main\")\n",
    "    currentList = []\n",
    "    clickTarget = browser.find_element_by_xpath('''//*[@id=\"'''+currentId+'''\"]/div/a[2]''')\n",
    "    for i in range(4):\n",
    "        element_name = browser.find_element_by_xpath('''//*[@id=\"'''+currentId+'''\"]/div/div/div[''' + str(i+1) + ''']/div[2]/a/h3''')\n",
    "        element_year = browser.find_element_by_xpath('''//*[@id=\"'''+currentId+'''\"]/div/div/div[''' + str(i+1) + ''']/div[2]/div[1]/span[1]''')\n",
    "        element_genre = browser.find_element_by_xpath('''//*[@id=\"'''+currentId+'''\"]/div/div/div[''' + str(i+1) + ''']/div[2]/div[1]/span[2]''')\n",
    "        currentList.append((element_name.text, element_year.text, element_genre.text))\n",
    "    clickTarget.click()\n",
    "    for i in range(5,9):\n",
    "        element_name = browser.find_element_by_xpath('''//*[@id=\"'''+currentId+'''\"]/div/div/div[''' + str(i+1) + ''']/div[2]/a/h3''')\n",
    "        element_year = browser.find_element_by_xpath('''//*[@id=\"'''+currentId+'''\"]/div/div/div[''' + str(i+1) + ''']/div[2]/div[1]/span[1]''')\n",
    "        element_genre = browser.find_element_by_xpath('''//*[@id=\"'''+currentId+'''\"]/div/div/div[''' + str(i+1) + ''']/div[2]/div[1]/span[2]''')\n",
    "        currentList.append((element_name.text, element_year.text, element_genre.text))\n",
    "    \n",
    "    clickTarget.click()\n",
    "    for i in range(10,14):\n",
    "        element_name = browser.find_element_by_xpath('''//*[@id=\"'''+currentId+'''\"]/div/div/div[''' + str(i+1) + ''']/div[2]/a/h3''')\n",
    "        element_year = browser.find_element_by_xpath('''//*[@id=\"'''+currentId+'''\"]/div/div/div[''' + str(i+1) + ''']/div[2]/div[1]/span[1]''')\n",
    "        element_genre = browser.find_element_by_xpath('''//*[@id=\"'''+currentId+'''\"]/div/div/div[''' + str(i+1) + ''']/div[2]/div[1]/span[2]''')\n",
    "        currentList.append((element_name.text, element_year.text, element_genre.text))\n",
    "    \n",
    "    clickTarget.click()\n",
    "    for i in range(15,19):\n",
    "        element_name = browser.find_element_by_xpath('''//*[@id=\"'''+currentId+'''\"]/div/div/div[''' + str(i+1) + ''']/div[2]/a/h3''')\n",
    "        element_year = browser.find_element_by_xpath('''//*[@id=\"'''+currentId+'''\"]/div/div/div[''' + str(i+1) + ''']/div[2]/div[1]/span[1]''')\n",
    "        element_genre = browser.find_element_by_xpath('''//*[@id=\"'''+currentId+'''\"]/div/div/div[''' + str(i+1) + ''']/div[2]/div[1]/span[2]''')\n",
    "        currentList.append((element_name.text, element_year.text, element_genre.text))\n",
    "    \n",
    "    clickTarget.click()\n",
    "    for i in range(20,24):\n",
    "        element_name = browser.find_element_by_xpath('''//*[@id=\"'''+currentId+'''\"]/div/div/div[''' + str(i+1) + ''']/div[2]/a/h3''')\n",
    "        element_year = browser.find_element_by_xpath('''//*[@id=\"'''+currentId+'''\"]/div/div/div[''' + str(i+1) + ''']/div[2]/div[1]/span[1]''')\n",
    "        element_genre = browser.find_element_by_xpath('''//*[@id=\"'''+currentId+'''\"]/div/div/div[''' + str(i+1) + ''']/div[2]/div[1]/span[2]''')\n",
    "        currentList.append((element_name.text, element_year.text, element_genre.text))\n",
    "    \n",
    "    print(currentList)\n",
    "    return currentList\n",
    "\n",
    "write_csv(get_films('widget_11Videos_48801'),1)\n",
    "#write_csv(get_films('widget_11Videos_37501'),2)\n",
    "\n",
    "#write_csv(get_films_less_amount('widget_11Videos_65211',9),3)\n",
    "#write_csv(get_films_less_amount('widget_11Videos_64541',7),4)\n",
    "#write_csv(get_films_less_amount('widget_11Videos_66051',9),5)\n",
    "#write_csv(get_films_less_amount('widget_11Videos_66981',6),6)\n",
    "#write_csv(get_films('widget_11Videos_41431'),7)"
   ]
  },
  {
   "cell_type": "code",
   "execution_count": 18,
   "metadata": {},
   "outputs": [],
   "source": [
    "import codecs\n",
    "import unicodecsv as csv"
   ]
  },
  {
   "cell_type": "code",
   "execution_count": 20,
   "metadata": {},
   "outputs": [],
   "source": [
    "import csv, codecs\n",
    "\n",
    "class UTF8Recoder:\n",
    "    \"\"\"\n",
    "    Iterator that reads an encoded stream and reencodes the input to UTF-8\n",
    "    \"\"\"\n",
    "    def __init__(self, f, encoding):\n",
    "        self.reader = codecs.getreader(encoding)(f)\n",
    "\n",
    "    def __iter__(self):\n",
    "        return self\n",
    "\n",
    "    def next(self):\n",
    "        return self.reader.next().encode(\"utf-8\")\n",
    "\n",
    "class UnicodeReader:\n",
    "    \"\"\"\n",
    "    A CSV reader which will iterate over lines in the CSV file \"f\",\n",
    "    which is encoded in the given encoding.\n",
    "    \"\"\"\n",
    "\n",
    "    def __init__(self, f, dialect=csv.excel, encoding=\"utf-8\", **kwds):\n",
    "        f = UTF8Recoder(f, encoding)\n",
    "        self.reader = csv.reader(f, dialect=dialect, **kwds)\n",
    "\n",
    "    def next(self):\n",
    "        row = self.reader.next()\n",
    "        return [unicode(s, \"utf-8\") for s in row]\n",
    "\n",
    "    def __iter__(self):\n",
    "        return self\n",
    "\n",
    "class UnicodeWriter:\n",
    "    \"\"\"\n",
    "    A CSV writer which will write rows to CSV file \"f\",\n",
    "    which is encoded in the given encoding.\n",
    "    \"\"\"\n",
    "\n",
    "    def __init__(self, f, dialect=csv.excel, encoding=\"utf-8\", **kwds):\n",
    "        # Redirect output to a queue\n",
    "        self.queue = cStringIO.StringIO()\n",
    "        self.writer = csv.writer(self.queue, dialect=dialect, **kwds)\n",
    "        self.stream = f\n",
    "        self.encoder = codecs.getincrementalencoder(encoding)()\n",
    "\n",
    "    def writerow(self, row):\n",
    "        self.writer.writerow([s.encode(\"utf-8\") for s in row])\n",
    "        # Fetch UTF-8 output from the queue ...\n",
    "        data = self.queue.getvalue()\n",
    "        data = data.decode(\"utf-8\")\n",
    "        # ... and reencode it into the target encoding\n",
    "        data = self.encoder.encode(data)\n",
    "        # write to the target stream\n",
    "        self.stream.write(data)\n",
    "        # empty queue\n",
    "        self.queue.truncate(0)\n",
    "\n",
    "    def writerows(self, rows):\n",
    "        for row in rows:\n",
    "            self.writerow(row)"
   ]
  },
  {
   "cell_type": "code",
   "execution_count": 21,
   "metadata": {},
   "outputs": [
    {
     "ename": "NameError",
     "evalue": "name 'cStringIO' is not defined",
     "output_type": "error",
     "traceback": [
      "\u001b[1;31m---------------------------------------------------------------------------\u001b[0m",
      "\u001b[1;31mNameError\u001b[0m                                 Traceback (most recent call last)",
      "\u001b[1;32m<ipython-input-21-3c425ce7abe3>\u001b[0m in \u001b[0;36m<module>\u001b[1;34m()\u001b[0m\n\u001b[0;32m      2\u001b[0m     \u001b[1;32mreturn\u001b[0m \u001b[1;33m[\u001b[0m\u001b[0municode\u001b[0m\u001b[1;33m(\u001b[0m\u001b[0melem\u001b[0m\u001b[1;33m)\u001b[0m\u001b[1;33m.\u001b[0m\u001b[0mencode\u001b[0m\u001b[1;33m(\u001b[0m\u001b[1;34m'utf-8'\u001b[0m\u001b[1;33m)\u001b[0m \u001b[1;32mfor\u001b[0m \u001b[0melem\u001b[0m \u001b[1;32min\u001b[0m \u001b[0mlst\u001b[0m\u001b[1;33m]\u001b[0m\u001b[1;33m\u001b[0m\u001b[0m\n\u001b[0;32m      3\u001b[0m \u001b[1;33m\u001b[0m\u001b[0m\n\u001b[1;32m----> 4\u001b[1;33m \u001b[0mcsv_writer\u001b[0m \u001b[1;33m=\u001b[0m \u001b[0mUnicodeWriter\u001b[0m\u001b[1;33m(\u001b[0m\u001b[1;34m'1_Films.csv'\u001b[0m\u001b[1;33m)\u001b[0m\u001b[1;33m\u001b[0m\u001b[0m\n\u001b[0m\u001b[0;32m      5\u001b[0m \u001b[0mcsv_writer\u001b[0m\u001b[1;33m.\u001b[0m\u001b[0mwriterow\u001b[0m\u001b[1;33m(\u001b[0m\u001b[0mto_utf8\u001b[0m\u001b[1;33m(\u001b[0m\u001b[0mrow\u001b[0m\u001b[1;33m)\u001b[0m\u001b[1;33m)\u001b[0m\u001b[1;33m\u001b[0m\u001b[0m\n",
      "\u001b[1;32m<ipython-input-20-3cd89ebe1dee>\u001b[0m in \u001b[0;36m__init__\u001b[1;34m(self, f, dialect, encoding, **kwds)\u001b[0m\n\u001b[0;32m     39\u001b[0m     \u001b[1;32mdef\u001b[0m \u001b[0m__init__\u001b[0m\u001b[1;33m(\u001b[0m\u001b[0mself\u001b[0m\u001b[1;33m,\u001b[0m \u001b[0mf\u001b[0m\u001b[1;33m,\u001b[0m \u001b[0mdialect\u001b[0m\u001b[1;33m=\u001b[0m\u001b[0mcsv\u001b[0m\u001b[1;33m.\u001b[0m\u001b[0mexcel\u001b[0m\u001b[1;33m,\u001b[0m \u001b[0mencoding\u001b[0m\u001b[1;33m=\u001b[0m\u001b[1;34m\"utf-8\"\u001b[0m\u001b[1;33m,\u001b[0m \u001b[1;33m**\u001b[0m\u001b[0mkwds\u001b[0m\u001b[1;33m)\u001b[0m\u001b[1;33m:\u001b[0m\u001b[1;33m\u001b[0m\u001b[0m\n\u001b[0;32m     40\u001b[0m         \u001b[1;31m# Redirect output to a queue\u001b[0m\u001b[1;33m\u001b[0m\u001b[1;33m\u001b[0m\u001b[0m\n\u001b[1;32m---> 41\u001b[1;33m         \u001b[0mself\u001b[0m\u001b[1;33m.\u001b[0m\u001b[0mqueue\u001b[0m \u001b[1;33m=\u001b[0m \u001b[0mcStringIO\u001b[0m\u001b[1;33m.\u001b[0m\u001b[0mStringIO\u001b[0m\u001b[1;33m(\u001b[0m\u001b[1;33m)\u001b[0m\u001b[1;33m\u001b[0m\u001b[0m\n\u001b[0m\u001b[0;32m     42\u001b[0m         \u001b[0mself\u001b[0m\u001b[1;33m.\u001b[0m\u001b[0mwriter\u001b[0m \u001b[1;33m=\u001b[0m \u001b[0mcsv\u001b[0m\u001b[1;33m.\u001b[0m\u001b[0mwriter\u001b[0m\u001b[1;33m(\u001b[0m\u001b[0mself\u001b[0m\u001b[1;33m.\u001b[0m\u001b[0mqueue\u001b[0m\u001b[1;33m,\u001b[0m \u001b[0mdialect\u001b[0m\u001b[1;33m=\u001b[0m\u001b[0mdialect\u001b[0m\u001b[1;33m,\u001b[0m \u001b[1;33m**\u001b[0m\u001b[0mkwds\u001b[0m\u001b[1;33m)\u001b[0m\u001b[1;33m\u001b[0m\u001b[0m\n\u001b[0;32m     43\u001b[0m         \u001b[0mself\u001b[0m\u001b[1;33m.\u001b[0m\u001b[0mstream\u001b[0m \u001b[1;33m=\u001b[0m \u001b[0mf\u001b[0m\u001b[1;33m\u001b[0m\u001b[0m\n",
      "\u001b[1;31mNameError\u001b[0m: name 'cStringIO' is not defined"
     ]
    }
   ],
   "source": [
    "def to_utf8(lst):\n",
    "    return [unicode(elem).encode('utf-8') for elem in lst]\n",
    "\n",
    "csv_writer = UnicodeWriter('1_Films.csv')\n",
    "csv_writer.writerow(to_utf8(row))"
   ]
  },
  {
   "cell_type": "code",
   "execution_count": 11,
   "metadata": {},
   "outputs": [],
   "source": [
    "def unicode_csv_reader(utf8_data, dialect=csv.excel, **kwargs):\n",
    "    csv_reader = csv.reader(utf8_data, dialect=dialect, **kwargs)\n",
    "    for row in csv_reader:\n",
    "        yield [unicode(cell, 'utf-8') for cell in row]\n",
    "\n",
    "filename = 'first_Films.csv'\n",
    "\n",
    "reader = unicode_csv_reader(open(filename))"
   ]
  },
  {
   "cell_type": "code",
   "execution_count": 12,
   "metadata": {},
   "outputs": [],
   "source": [
    "def write_csv(data):\n",
    "    with open('first_Films.csv', 'a', encoding='utf-8') as f:\n",
    "        writer = csv.writer(f)\n",
    "        writer.writerow( (data['Название'],\n",
    "                          data['Год'],\n",
    "                          data['Жанр']) )"
   ]
  },
  {
   "cell_type": "code",
   "execution_count": null,
   "metadata": {},
   "outputs": [],
   "source": []
  }
 ],
 "metadata": {
  "kernelspec": {
   "display_name": "Python 3",
   "language": "python",
   "name": "python3"
  },
  "language_info": {
   "codemirror_mode": {
    "name": "ipython",
    "version": 3
   },
   "file_extension": ".py",
   "mimetype": "text/x-python",
   "name": "python",
   "nbconvert_exporter": "python",
   "pygments_lexer": "ipython3",
   "version": "3.6.5"
  }
 },
 "nbformat": 4,
 "nbformat_minor": 2
}
