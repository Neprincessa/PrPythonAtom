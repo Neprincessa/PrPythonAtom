{
 "cells": [
  {
   "cell_type": "code",
   "execution_count": 1,
   "metadata": {},
   "outputs": [],
   "source": [
    "import requests\n",
    "from bs4 import BeautifulSoup\n",
    "import json\n",
    "import re\n",
    "import pandas as pd\n",
    "import numpy as np\n",
    "from user_agent import generate_user_agent\n",
    "import selenium\n",
    "from selenium.common.exceptions import NoSuchElementException, WebDriverException\n",
    "from selenium.webdriver.common.keys import Keys\n",
    "from selenium.webdriver import Chrome\n",
    "import csv"
   ]
  },
  {
   "cell_type": "code",
   "execution_count": 2,
   "metadata": {},
   "outputs": [],
   "source": [
    "def write_csv(data, index): \n",
    "    with open(str(index)+'_Films.csv','a') as f: \n",
    "        writer = csv.writer(f)\n",
    "        for i in data:\n",
    "            writer.writerow(i)"
   ]
  },
  {
   "cell_type": "code",
   "execution_count": 5,
   "metadata": {},
   "outputs": [],
   "source": [
    "def get_films_less_amount(currentId, maxInd):\n",
    "    browser = Chrome(executable_path = \"chromedriver\")\n",
    "    browser.get(\"https://megogo.ru/ru/films/main\")\n",
    "    currentList = []\n",
    "    clickTarget = browser.find_element_by_xpath('''//*[@id=\"'''+currentId+'''\"]/div/a[2]''')\n",
    "    for i in range(4):\n",
    "        element_name = browser.find_element_by_xpath('''//*[@id=\"'''+currentId+'''\"]/div/div/div[''' + str(i+1) + ''']/div[2]/a/h3''')\n",
    "        element_year = browser.find_element_by_xpath('''//*[@id=\"'''+currentId+'''\"]/div/div/div[''' + str(i+1) + ''']/div[2]/div[1]/span[1]''')\n",
    "        element_genre = browser.find_element_by_xpath('''//*[@id=\"'''+currentId+'''\"]/div/div/div[''' + str(i+1) + ''']/div[2]/div[1]/span[2]''')\n",
    "        currentList.append((element_name.text, element_year.text, element_genre.text))\n",
    "    clickTarget.click()\n",
    "    for i in range(5,maxInd-1):\n",
    "        element_name = browser.find_element_by_xpath('''//*[@id=\"'''+currentId+'''\"]/div/div/div[''' + str(i+1) + ''']/div[2]/a/h3''')\n",
    "        element_year = browser.find_element_by_xpath('''//*[@id=\"'''+currentId+'''\"]/div/div/div[''' + str(i+1) + ''']/div[2]/div[1]/span[1]''')\n",
    "        element_genre = browser.find_element_by_xpath('''//*[@id=\"'''+currentId+'''\"]/div/div/div[''' + str(i+1) + ''']/div[2]/div[1]/span[2]''')\n",
    "        currentList.append((element_name.text, element_year.text, element_genre.text))\n",
    "    print(currentList)\n",
    "    return currentList"
   ]
  },
  {
   "cell_type": "code",
   "execution_count": 6,
   "metadata": {},
   "outputs": [
    {
     "name": "stdout",
     "output_type": "stream",
     "text": [
      "[('Опасная игра Слоун', '2018', 'Драмы'), ('Опасный бизнес', '2018', 'Комедии'), ('Дыши во мгле', '2018', 'Приключения'), ('Сердце из стали', '2017', 'Боевики'), ('Такси 5', '2018', 'Комедии'), ('Пассажир', '2018', 'Боевики'), ('Эскобар', '2018', 'Криминал'), ('Все деньги мира', '2018', 'Детективы'), ('Дикие предки', '2018', 'Приключения'), ('Редкая бабочка', '2018', 'Комедии'), ('Операция «Шаровая молния»', '2018', 'Криминал'), ('От семьи не убежишь', '2018', 'Комедии'), ('Кавалерия', '2018', 'Драмы'), ('Тоня против всех', '2017', 'Комедии'), ('Невероятная история о гигантской груше', '2018', 'Полнометражные'), ('О чём говорят мужчины. Продолжение', '2018', 'Комедии'), ('Винчестер. Дом, который построили призраки', '2018', 'Детективы'), ('Охота на воров', '2018', 'Боевики'), ('Валериан и город тысячи планет', '2017', 'Боевики'), ('Гоголь. Вий', '2018', 'Приключения')]\n",
      "[('Учитель музыки', '2008', 'Мелодрамы'), ('Доживем до понедельника', '1968', 'Драмы'), ('Первоклассница', '1948', 'Детские'), ('Сельская учительница', '1947', 'Драмы'), ('Дорогая Елена Сергеевна', '1988', 'Драмы'), ('Большая перемена', '1972', 'Комедии'), ('Половое воспитание', '2015', 'Комедии')]\n",
      "[('Прежде чем я усну', '2014', 'Детективы'), ('Всё ещё Элис', '2014', 'Драмы'), ('Люди в черном 2', '2002', 'Боевики'), ('Робот и Фрэнк', '2012', 'Комедии'), ('Готика', '2004', 'Зарубежные')]\n",
      "[('Инспектор ГАИ', '1982', 'Драмы'), ('Приключения Кроша', '1961', 'Семейные'), ('Полеты во сне и наяву', '1982', 'Драмы'), ('Жестокий романс', '1984', 'Драмы'), ('Я шагаю по Москве', '1963', 'Комедии'), ('Сибириада', '1978', 'Драмы'), ('Неоконченная пьеса для механического пианино', '1976', 'Драмы')]\n",
      "[('Супер Майк', '2012', 'Комедии'), ('Волк с Уолл-стрит', '2014', 'Комедии'), ('Золото', '2017', 'Приключения'), ('Далласский клуб покупателей', '2013', 'Драмы')]\n",
      "[('Малышка на миллион', '2004', 'Спортивные'), ('Белый шквал', '1996', 'Приключения'), ('Двойник дьявола', '2011', 'Драмы'), ('Белый плен', '2006', 'Приключения'), ('Рыжий пес', '2011', 'Драмы'), ('Хатико: Самый верный друг', '2008', 'Семейные'), ('Я люблю тебя, Филлип Моррис', '2008', 'Драмы'), ('Прогулка', '2015', 'Драмы'), ('Социальная сеть', '2010', 'Драмы'), ('Эд Вуд', '1994', 'Комедии'), ('Открытое море: Новые жертвы', '2010', 'Зарубежные'), ('Преступник', '2008', 'Криминал'), ('В погоне за счастьем', '2006', 'Драмы'), ('Шесть демонов Эмили Роуз', '2005', 'Драмы'), ('Несколько хороших парней', '1992', 'Драмы'), ('Патриот', '2000', 'Боевики'), ('Почти знаменит', '2000', 'Комедии'), ('Семь лет в Тибете', '1997', 'Приключения'), ('Джули и Джулия: Готовим счастье по рецепту', '2009', 'Драмы'), ('Мария-Антуанетта', '2005', 'Драмы')]\n"
     ]
    }
   ],
   "source": [
    "def get_films(currentId):\n",
    "    browser = Chrome(executable_path = \"chromedriver\")\n",
    "    browser.get(\"https://megogo.ru/ru/films/main\")\n",
    "    currentList = []\n",
    "    clickTarget = browser.find_element_by_xpath('''//*[@id=\"'''+currentId+'''\"]/div/a[2]''')\n",
    "    for i in range(4):\n",
    "        element_name = browser.find_element_by_xpath('''//*[@id=\"'''+currentId+'''\"]/div/div/div[''' + str(i+1) + ''']/div[2]/a/h3''')\n",
    "        element_year = browser.find_element_by_xpath('''//*[@id=\"'''+currentId+'''\"]/div/div/div[''' + str(i+1) + ''']/div[2]/div[1]/span[1]''')\n",
    "        element_genre = browser.find_element_by_xpath('''//*[@id=\"'''+currentId+'''\"]/div/div/div[''' + str(i+1) + ''']/div[2]/div[1]/span[2]''')\n",
    "        currentList.append((element_name.text, element_year.text, element_genre.text))\n",
    "    clickTarget.click()\n",
    "    for i in range(5,9):\n",
    "        element_name = browser.find_element_by_xpath('''//*[@id=\"'''+currentId+'''\"]/div/div/div[''' + str(i+1) + ''']/div[2]/a/h3''')\n",
    "        element_year = browser.find_element_by_xpath('''//*[@id=\"'''+currentId+'''\"]/div/div/div[''' + str(i+1) + ''']/div[2]/div[1]/span[1]''')\n",
    "        element_genre = browser.find_element_by_xpath('''//*[@id=\"'''+currentId+'''\"]/div/div/div[''' + str(i+1) + ''']/div[2]/div[1]/span[2]''')\n",
    "        currentList.append((element_name.text, element_year.text, element_genre.text))\n",
    "    \n",
    "    clickTarget.click()\n",
    "    for i in range(10,14):\n",
    "        element_name = browser.find_element_by_xpath('''//*[@id=\"'''+currentId+'''\"]/div/div/div[''' + str(i+1) + ''']/div[2]/a/h3''')\n",
    "        element_year = browser.find_element_by_xpath('''//*[@id=\"'''+currentId+'''\"]/div/div/div[''' + str(i+1) + ''']/div[2]/div[1]/span[1]''')\n",
    "        element_genre = browser.find_element_by_xpath('''//*[@id=\"'''+currentId+'''\"]/div/div/div[''' + str(i+1) + ''']/div[2]/div[1]/span[2]''')\n",
    "        currentList.append((element_name.text, element_year.text, element_genre.text))\n",
    "    \n",
    "    clickTarget.click()\n",
    "    for i in range(15,19):\n",
    "        element_name = browser.find_element_by_xpath('''//*[@id=\"'''+currentId+'''\"]/div/div/div[''' + str(i+1) + ''']/div[2]/a/h3''')\n",
    "        element_year = browser.find_element_by_xpath('''//*[@id=\"'''+currentId+'''\"]/div/div/div[''' + str(i+1) + ''']/div[2]/div[1]/span[1]''')\n",
    "        element_genre = browser.find_element_by_xpath('''//*[@id=\"'''+currentId+'''\"]/div/div/div[''' + str(i+1) + ''']/div[2]/div[1]/span[2]''')\n",
    "        currentList.append((element_name.text, element_year.text, element_genre.text))\n",
    "    \n",
    "    clickTarget.click()\n",
    "    for i in range(20,24):\n",
    "        element_name = browser.find_element_by_xpath('''//*[@id=\"'''+currentId+'''\"]/div/div/div[''' + str(i+1) + ''']/div[2]/a/h3''')\n",
    "        element_year = browser.find_element_by_xpath('''//*[@id=\"'''+currentId+'''\"]/div/div/div[''' + str(i+1) + ''']/div[2]/div[1]/span[1]''')\n",
    "        element_genre = browser.find_element_by_xpath('''//*[@id=\"'''+currentId+'''\"]/div/div/div[''' + str(i+1) + ''']/div[2]/div[1]/span[2]''')\n",
    "        currentList.append((element_name.text, element_year.text, element_genre.text))\n",
    "    \n",
    "    print(currentList)\n",
    "    return currentList\n",
    "    \n",
    "write_csv(get_films('widget_11Videos_37501'),2)\n",
    "write_csv(get_films_less_amount('widget_11Videos_65211',9),3)\n",
    "write_csv(get_films_less_amount('widget_11Videos_64541',7),4)\n",
    "write_csv(get_films_less_amount('widget_11Videos_66051',9),5)\n",
    "write_csv(get_films_less_amount('widget_11Videos_66981',6),6)\n",
    "write_csv(get_films('widget_11Videos_41431'),7)"
   ]
  },
  {
   "cell_type": "code",
   "execution_count": null,
   "metadata": {},
   "outputs": [],
   "source": []
  }
 ],
 "metadata": {
  "kernelspec": {
   "display_name": "Python 3",
   "language": "python",
   "name": "python3"
  },
  "language_info": {
   "codemirror_mode": {
    "name": "ipython",
    "version": 3
   },
   "file_extension": ".py",
   "mimetype": "text/x-python",
   "name": "python",
   "nbconvert_exporter": "python",
   "pygments_lexer": "ipython3",
   "version": "3.6.5"
  }
 },
 "nbformat": 4,
 "nbformat_minor": 2
}
