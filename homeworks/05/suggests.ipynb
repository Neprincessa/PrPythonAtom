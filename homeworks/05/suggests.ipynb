{
 "cells": [
  {
   "cell_type": "code",
   "execution_count": 1,
   "metadata": {},
   "outputs": [],
   "source": [
    "import pandas as pd"
   ]
  },
  {
   "cell_type": "code",
   "execution_count": 2,
   "metadata": {},
   "outputs": [],
   "source": [
    "class TreeNode(object):\n",
    "  \n",
    "    def __init__(self, char: str):\n",
    "        self.char = char\n",
    "        self.children = []\n",
    "        self.word_finished = False"
   ]
  },
  {
   "cell_type": "code",
   "execution_count": 7,
   "metadata": {},
   "outputs": [],
   "source": [
    "def add(root, word: str):\n",
    "    word = word.lower().replace('ё', 'е')\n",
    "    node = root\n",
    "    for char in word:\n",
    "        found_in_child = False\n",
    "        for child in node.children:\n",
    "            if child.char == char:\n",
    "                node = child\n",
    "                found_in_child = True\n",
    "                break\n",
    "        if not found_in_child:\n",
    "            new_node = TreeNode(char)\n",
    "            node.children.append(new_node)\n",
    "            node = new_node\n",
    "    node.word_finished = True\n",
    "    \n",
    "def prefix_descent(root, prefix: str):\n",
    "    node = root\n",
    "    #if prefix == '':\n",
    "        #return False\n",
    "    for char in prefix:\n",
    "        char_not_found = True\n",
    "        for child in node.children:\n",
    "            if child.char == char:\n",
    "                char_not_found = False\n",
    "                node = child\n",
    "                break\n",
    "        if char_not_found:\n",
    "            return False\n",
    "    return node\n",
    "\n",
    "\n",
    "def display(node, string, level, list_of_strings):\n",
    "    if node.word_finished:\n",
    "        res_string = ''.join(string)\n",
    "        list_of_strings.append(res_string)\n",
    "    else:\n",
    "        for child in node.children:\n",
    "            string.insert(level, child.char)\n",
    "            display(child, string.copy(), level+1, list_of_strings)\n",
    "            string.pop()\n",
    "\n",
    "\n",
    "def make_suggestions(root, prefix):\n",
    "    prefix = prefix.lower()\n",
    "    node = prefix_descent(root, prefix)\n",
    "    list_of_strings = []\n",
    "    string = []\n",
    "    if type(node) == bool:\n",
    "        list_of_strings.append(prefix)\n",
    "    else:\n",
    "        display(node, string, 0, list_of_strings)\n",
    "        for i in range(len(list_of_strings)):\n",
    "            list_of_strings[i] = prefix + list_of_strings[i]\n",
    "    return list_of_strings"
   ]
  },
  {
   "cell_type": "code",
   "execution_count": 11,
   "metadata": {},
   "outputs": [],
   "source": [
    "file = open(\"first_Films.csv\", 'r', encoding=\"cp1251\");"
   ]
  },
  {
   "cell_type": "code",
   "execution_count": 3,
   "metadata": {},
   "outputs": [
    {
     "ename": "NameError",
     "evalue": "name 'TreeNode' is not defined",
     "output_type": "error",
     "traceback": [
      "\u001b[1;31m---------------------------------------------------------------------------\u001b[0m",
      "\u001b[1;31mNameError\u001b[0m                                 Traceback (most recent call last)",
      "\u001b[1;32m<ipython-input-3-b499e00900f4>\u001b[0m in \u001b[0;36m<module>\u001b[1;34m()\u001b[0m\n\u001b[1;32m----> 1\u001b[1;33m \u001b[0mroot\u001b[0m \u001b[1;33m=\u001b[0m \u001b[0mTreeNode\u001b[0m\u001b[1;33m(\u001b[0m\u001b[1;34m'*'\u001b[0m\u001b[1;33m)\u001b[0m\u001b[1;33m\u001b[0m\u001b[0m\n\u001b[0m",
      "\u001b[1;31mNameError\u001b[0m: name 'TreeNode' is not defined"
     ]
    }
   ],
   "source": [
    "root = TreeNode('*')"
   ]
  },
  {
   "cell_type": "code",
   "execution_count": 5,
   "metadata": {},
   "outputs": [],
   "source": [
    "import pandas as pd"
   ]
  },
  {
   "cell_type": "code",
   "execution_count": 13,
   "metadata": {},
   "outputs": [
    {
     "data": {
      "text/html": [
       "<div>\n",
       "<style scoped>\n",
       "    .dataframe tbody tr th:only-of-type {\n",
       "        vertical-align: middle;\n",
       "    }\n",
       "\n",
       "    .dataframe tbody tr th {\n",
       "        vertical-align: top;\n",
       "    }\n",
       "\n",
       "    .dataframe thead th {\n",
       "        text-align: right;\n",
       "    }\n",
       "</style>\n",
       "<table border=\"1\" class=\"dataframe\">\n",
       "  <thead>\n",
       "    <tr style=\"text-align: right;\">\n",
       "      <th></th>\n",
       "      <th>movies</th>\n",
       "      <th>year</th>\n",
       "      <th>genre</th>\n",
       "    </tr>\n",
       "  </thead>\n",
       "  <tbody>\n",
       "    <tr>\n",
       "      <th>0</th>\n",
       "      <td>Сделано в Америке</td>\n",
       "      <td>2017</td>\n",
       "      <td>Криминал</td>\n",
       "    </tr>\n",
       "    <tr>\n",
       "      <th>1</th>\n",
       "      <td>Роковое искушение</td>\n",
       "      <td>2017</td>\n",
       "      <td>Драмы</td>\n",
       "    </tr>\n",
       "    <tr>\n",
       "      <th>2</th>\n",
       "      <td>Трудный ребенок</td>\n",
       "      <td>1990</td>\n",
       "      <td>Комедии</td>\n",
       "    </tr>\n",
       "    <tr>\n",
       "      <th>3</th>\n",
       "      <td>Книга Генри</td>\n",
       "      <td>2017</td>\n",
       "      <td>Криминал</td>\n",
       "    </tr>\n",
       "    <tr>\n",
       "      <th>4</th>\n",
       "      <td>Горы и камни</td>\n",
       "      <td>2017</td>\n",
       "      <td>Драмы</td>\n",
       "    </tr>\n",
       "  </tbody>\n",
       "</table>\n",
       "</div>"
      ],
      "text/plain": [
       "              movies  year     genre\n",
       "0  Сделано в Америке  2017  Криминал\n",
       "1  Роковое искушение  2017     Драмы\n",
       "2    Трудный ребенок  1990   Комедии\n",
       "3        Книга Генри  2017  Криминал\n",
       "4       Горы и камни  2017     Драмы"
      ]
     },
     "execution_count": 13,
     "metadata": {},
     "output_type": "execute_result"
    }
   ],
   "source": [
    "bigDate.head()"
   ]
  },
  {
   "cell_type": "code",
   "execution_count": 12,
   "metadata": {},
   "outputs": [],
   "source": [
    "bigDate = pd.read_csv(\"first_Films.csv\", names=['movies', 'year', 'genre'], encoding=\"cp1251\")\n",
    "#for i in bigDate['movies']:\n",
    " #   add(root, i)"
   ]
  },
  {
   "cell_type": "code",
   "execution_count": 11,
   "metadata": {},
   "outputs": [
    {
     "data": {
      "text/plain": [
       "['тру']"
      ]
     },
     "execution_count": 11,
     "metadata": {},
     "output_type": "execute_result"
    }
   ],
   "source": [
    "make_suggestions(root, 'тру')"
   ]
  },
  {
   "cell_type": "code",
   "execution_count": null,
   "metadata": {},
   "outputs": [],
   "source": []
  },
  {
   "cell_type": "code",
   "execution_count": null,
   "metadata": {},
   "outputs": [],
   "source": []
  }
 ],
 "metadata": {
  "kernelspec": {
   "display_name": "Python 3",
   "language": "python",
   "name": "python3"
  },
  "language_info": {
   "codemirror_mode": {
    "name": "ipython",
    "version": 3
   },
   "file_extension": ".py",
   "mimetype": "text/x-python",
   "name": "python",
   "nbconvert_exporter": "python",
   "pygments_lexer": "ipython3",
   "version": "3.6.5"
  }
 },
 "nbformat": 4,
 "nbformat_minor": 2
}
