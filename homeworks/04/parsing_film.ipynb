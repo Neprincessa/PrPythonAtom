{
 "cells": [
  {
   "cell_type": "code",
   "execution_count": 65,
   "metadata": {},
   "outputs": [],
   "source": [
    "import requests\n",
    "from bs4 import BeautifulSoup\n",
    "import json\n",
    "import re\n",
    "import pandas as pd\n",
    "import numpy as np\n",
    "from user_agent import generate_user_agent\n",
    "import selenium\n",
    "from selenium.common.exceptions import NoSuchElementException, WebDriverException\n",
    "from selenium.webdriver.common.keys import Keys\n",
    "from selenium.webdriver import Chrome\n",
    "import csv"
   ]
  },
  {
   "cell_type": "code",
   "execution_count": 66,
   "metadata": {},
   "outputs": [],
   "source": [
    "def write_csv(data): \n",
    "    with open('Films.csv','a') as f: \n",
    "        writer = csv.writer(f)\n",
    "        for i in data:\n",
    "            writer.writerow(i)"
   ]
  },
  {
   "cell_type": "code",
   "execution_count": 67,
   "metadata": {},
   "outputs": [
    {
     "name": "stdout",
     "output_type": "stream",
     "text": [
      "[('Сделано в Америке', '2017', 'Криминал'), ('Роковое искушение', '2017', 'Драмы'), ('Трудный ребенок', '1990', 'Комедии'), ('Книга Генри', '2017', 'Криминал'), ('Горы и камни', '2017', 'Драмы'), ('Страж', '1990', 'Детективы'), ('Поймай толстуху, если сможешь', '2013', 'Комедии'), ('Пипец 2', '2013', 'Комедии'), ('Отвези меня домой', '2011', 'Комедии'), ('Плакса', '1990', 'Мюзиклы'), ('Участь женщины', '2001', 'Драмы'), ('Психо 2', '1983', 'Детективы'), ('Хеллбой II: Золотая армия', '2008', 'Приключения'), ('Чокнутый профессор 2: Семья Клампов', '2000', 'Фантастика'), ('Рэй', '2004', 'Драмы'), ('Земля до начала времен', '1988', 'Приключения'), ('Челюсти', '1975', 'Приключения'), ('Челюсти 2', '1978', 'Приключения'), ('Челюсти 3', '1983', 'Приключения'), ('Круклин', '1994', 'Комедии')]\n"
     ]
    }
   ],
   "source": [
    "def get_films():\n",
    "    browser = Chrome(executable_path = \"chromedriver\")\n",
    "    browser.get(\"https://megogo.ru/ru/films/main\")\n",
    "    currentList = []\n",
    "    clickTarget = browser.find_element_by_xpath('''//*[@id=\"widget_11Videos_48801\"]/div/a[2]''')\n",
    "    for i in range(4):\n",
    "        element_name = browser.find_element_by_xpath('''//*[@id=\"widget_11Videos_48801\"]/div/div/div[''' + str(i+1) + ''']/div[2]/a/h3''')\n",
    "        element_year = browser.find_element_by_xpath('''//*[@id=\"widget_11Videos_48801\"]/div/div/div[''' + str(i+1) + ''']/div[2]/div[1]/span[1]''')\n",
    "        element_genre = browser.find_element_by_xpath('''//*[@id=\"widget_11Videos_48801\"]/div/div/div[''' + str(i+1) + ''']/div[2]/div[1]/span[2]''')\n",
    "        currentList.append((element_name.text, element_year.text, element_genre.text))\n",
    "    clickTarget.click()\n",
    "    for i in range(5,9):\n",
    "        element_name = browser.find_element_by_xpath('''//*[@id=\"widget_11Videos_48801\"]/div/div/div[''' + str(i+1) + ''']/div[2]/a/h3''')\n",
    "        element_year = browser.find_element_by_xpath('''//*[@id=\"widget_11Videos_48801\"]/div/div/div[''' + str(i+1) + ''']/div[2]/div[1]/span[1]''')\n",
    "        element_genre = browser.find_element_by_xpath('''//*[@id=\"widget_11Videos_48801\"]/div/div/div[''' + str(i+1) + ''']/div[2]/div[1]/span[2]''')\n",
    "        currentList.append((element_name.text, element_year.text, element_genre.text))\n",
    "    \n",
    "    clickTarget.click()\n",
    "    for i in range(10,14):\n",
    "        element_name = browser.find_element_by_xpath('''//*[@id=\"widget_11Videos_48801\"]/div/div/div[''' + str(i+1) + ''']/div[2]/a/h3''')\n",
    "        element_year = browser.find_element_by_xpath('''//*[@id=\"widget_11Videos_48801\"]/div/div/div[''' + str(i+1) + ''']/div[2]/div[1]/span[1]''')\n",
    "        element_genre = browser.find_element_by_xpath('''//*[@id=\"widget_11Videos_48801\"]/div/div/div[''' + str(i+1) + ''']/div[2]/div[1]/span[2]''')\n",
    "        currentList.append((element_name.text, element_year.text, element_genre.text))\n",
    "    \n",
    "    clickTarget.click()\n",
    "    for i in range(15,19):\n",
    "        element_name = browser.find_element_by_xpath('''//*[@id=\"widget_11Videos_48801\"]/div/div/div[''' + str(i+1) + ''']/div[2]/a/h3''')\n",
    "        element_year = browser.find_element_by_xpath('''//*[@id=\"widget_11Videos_48801\"]/div/div/div[''' + str(i+1) + ''']/div[2]/div[1]/span[1]''')\n",
    "        element_genre = browser.find_element_by_xpath('''//*[@id=\"widget_11Videos_48801\"]/div/div/div[''' + str(i+1) + ''']/div[2]/div[1]/span[2]''')\n",
    "        currentList.append((element_name.text, element_year.text, element_genre.text))\n",
    "    \n",
    "    clickTarget.click()\n",
    "    for i in range(20,24):\n",
    "        element_name = browser.find_element_by_xpath('''//*[@id=\"widget_11Videos_48801\"]/div/div/div[''' + str(i+1) + ''']/div[2]/a/h3''')\n",
    "        element_year = browser.find_element_by_xpath('''//*[@id=\"widget_11Videos_48801\"]/div/div/div[''' + str(i+1) + ''']/div[2]/div[1]/span[1]''')\n",
    "        element_genre = browser.find_element_by_xpath('''//*[@id=\"widget_11Videos_48801\"]/div/div/div[''' + str(i+1) + ''']/div[2]/div[1]/span[2]''')\n",
    "        currentList.append((element_name.text, element_year.text, element_genre.text))\n",
    "    \n",
    "    print(currentList)\n",
    "    return currentList\n",
    "    \n",
    "write_csv(get_films())"
   ]
  },
  {
   "cell_type": "code",
   "execution_count": 1,
   "metadata": {},
   "outputs": [
    {
     "ename": "ModuleNotFoundError",
     "evalue": "No module named 'cStringIO'",
     "output_type": "error",
     "traceback": [
      "\u001b[1;31m---------------------------------------------------------------------------\u001b[0m",
      "\u001b[1;31mModuleNotFoundError\u001b[0m                       Traceback (most recent call last)",
      "\u001b[1;32m<ipython-input-1-77029da19fe3>\u001b[0m in \u001b[0;36m<module>\u001b[1;34m()\u001b[0m\n\u001b[1;32m----> 1\u001b[1;33m \u001b[1;32mimport\u001b[0m \u001b[0mcsv\u001b[0m\u001b[1;33m,\u001b[0m \u001b[0mcodecs\u001b[0m\u001b[1;33m,\u001b[0m \u001b[0mcStringIO\u001b[0m\u001b[1;33m\u001b[0m\u001b[0m\n\u001b[0m\u001b[0;32m      2\u001b[0m \u001b[1;33m\u001b[0m\u001b[0m\n\u001b[0;32m      3\u001b[0m \u001b[1;32mclass\u001b[0m \u001b[0mUTF8Recoder\u001b[0m\u001b[1;33m:\u001b[0m\u001b[1;33m\u001b[0m\u001b[0m\n\u001b[0;32m      4\u001b[0m     \"\"\"\n\u001b[0;32m      5\u001b[0m     \u001b[0mIterator\u001b[0m \u001b[0mthat\u001b[0m \u001b[0mreads\u001b[0m \u001b[0man\u001b[0m \u001b[0mencoded\u001b[0m \u001b[0mstream\u001b[0m \u001b[1;32mand\u001b[0m \u001b[0mreencodes\u001b[0m \u001b[0mthe\u001b[0m \u001b[0minput\u001b[0m \u001b[0mto\u001b[0m \u001b[0mUTF\u001b[0m\u001b[1;33m-\u001b[0m\u001b[1;36m8\u001b[0m\u001b[1;33m\u001b[0m\u001b[0m\n",
      "\u001b[1;31mModuleNotFoundError\u001b[0m: No module named 'cStringIO'"
     ]
    }
   ],
   "source": [
    "import csv, codecs, cStringIO\n",
    "\n",
    "class UTF8Recoder:\n",
    "    \"\"\"\n",
    "    Iterator that reads an encoded stream and reencodes the input to UTF-8\n",
    "    \"\"\"\n",
    "    def __init__(self, f, encoding):\n",
    "        self.reader = codecs.getreader(encoding)(f)\n",
    "\n",
    "    def __iter__(self):\n",
    "        return self\n",
    "\n",
    "    def next(self):\n",
    "        return self.reader.next().encode(\"utf-8\")\n",
    "\n",
    "class UnicodeReader:\n",
    "    \"\"\"\n",
    "    A CSV reader which will iterate over lines in the CSV file \"f\",\n",
    "    which is encoded in the given encoding.\n",
    "    \"\"\"\n",
    "\n",
    "    def __init__(self, f, dialect=csv.excel, encoding=\"utf-8\", **kwds):\n",
    "        f = UTF8Recoder(f, encoding)\n",
    "        self.reader = csv.reader(f, dialect=dialect, **kwds)\n",
    "\n",
    "    def next(self):\n",
    "        row = self.reader.next()\n",
    "        return [unicode(s, \"utf-8\") for s in row]\n",
    "\n",
    "    def __iter__(self):\n",
    "        return self\n",
    "\n",
    "class UnicodeWriter:\n",
    "    \"\"\"\n",
    "    A CSV writer which will write rows to CSV file \"f\",\n",
    "    which is encoded in the given encoding.\n",
    "    \"\"\"\n",
    "\n",
    "    def __init__(self, f, dialect=csv.excel, encoding=\"utf-8\", **kwds):\n",
    "        # Redirect output to a queue\n",
    "        self.queue = cStringIO.StringIO()\n",
    "        self.writer = csv.writer(self.queue, dialect=dialect, **kwds)\n",
    "        self.stream = f\n",
    "        self.encoder = codecs.getincrementalencoder(encoding)()\n",
    "\n",
    "    def writerow(self, row):\n",
    "        self.writer.writerow([s.encode(\"utf-8\") for s in row])\n",
    "        # Fetch UTF-8 output from the queue ...\n",
    "        data = self.queue.getvalue()\n",
    "        data = data.decode(\"utf-8\")\n",
    "        # ... and reencode it into the target encoding\n",
    "        data = self.encoder.encode(data)\n",
    "        # write to the target stream\n",
    "        self.stream.write(data)\n",
    "        # empty queue\n",
    "        self.queue.truncate(0)\n",
    "\n",
    "    def writerows(self, rows):\n",
    "        for row in rows:\n",
    "            self.writerow(row)"
   ]
  },
  {
   "cell_type": "code",
   "execution_count": null,
   "metadata": {},
   "outputs": [],
   "source": []
  }
 ],
 "metadata": {
  "kernelspec": {
   "display_name": "Python 3",
   "language": "python",
   "name": "python3"
  },
  "language_info": {
   "codemirror_mode": {
    "name": "ipython",
    "version": 3
   },
   "file_extension": ".py",
   "mimetype": "text/x-python",
   "name": "python",
   "nbconvert_exporter": "python",
   "pygments_lexer": "ipython3",
   "version": "3.6.5"
  }
 },
 "nbformat": 4,
 "nbformat_minor": 2
}
