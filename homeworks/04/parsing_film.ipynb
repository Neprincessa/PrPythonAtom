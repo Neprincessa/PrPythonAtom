{
 "cells": [
  {
   "cell_type": "code",
   "execution_count": 65,
   "metadata": {},
   "outputs": [],
   "source": [
    "import requests\n",
    "from bs4 import BeautifulSoup\n",
    "import json\n",
    "import re\n",
    "import pandas as pd\n",
    "import numpy as np\n",
    "from user_agent import generate_user_agent\n",
    "import selenium\n",
    "from selenium.common.exceptions import NoSuchElementException, WebDriverException\n",
    "from selenium.webdriver.common.keys import Keys\n",
    "from selenium.webdriver import Chrome\n",
    "import csv"
   ]
  },
  {
   "cell_type": "code",
   "execution_count": 66,
   "metadata": {},
   "outputs": [],
   "source": [
    "def write_csv(data): \n",
    "    with open('Films.csv','a') as f: \n",
    "        writer = csv.writer(f)\n",
    "        for i in data:\n",
    "            writer.writerow(i)"
   ]
  },
  {
   "cell_type": "code",
   "execution_count": 67,
   "metadata": {},
   "outputs": [
    {
     "name": "stdout",
     "output_type": "stream",
     "text": [
      "[('Сделано в Америке', '2017', 'Криминал'), ('Роковое искушение', '2017', 'Драмы'), ('Трудный ребенок', '1990', 'Комедии'), ('Книга Генри', '2017', 'Криминал'), ('Горы и камни', '2017', 'Драмы'), ('Страж', '1990', 'Детективы'), ('Поймай толстуху, если сможешь', '2013', 'Комедии'), ('Пипец 2', '2013', 'Комедии'), ('Отвези меня домой', '2011', 'Комедии'), ('Плакса', '1990', 'Мюзиклы'), ('Участь женщины', '2001', 'Драмы'), ('Психо 2', '1983', 'Детективы'), ('Хеллбой II: Золотая армия', '2008', 'Приключения'), ('Чокнутый профессор 2: Семья Клампов', '2000', 'Фантастика'), ('Рэй', '2004', 'Драмы'), ('Земля до начала времен', '1988', 'Приключения'), ('Челюсти', '1975', 'Приключения'), ('Челюсти 2', '1978', 'Приключения'), ('Челюсти 3', '1983', 'Приключения'), ('Круклин', '1994', 'Комедии')]\n"
     ]
    }
   ],
   "source": [
    "def get_films():\n",
    "    browser = Chrome(executable_path = \"chromedriver\")\n",
    "    browser.get(\"https://megogo.ru/ru/films/main\")\n",
    "    currentList = []\n",
    "    clickTarget = browser.find_element_by_xpath('''//*[@id=\"widget_11Videos_48801\"]/div/a[2]''')\n",
    "    for i in range(4):\n",
    "        element_name = browser.find_element_by_xpath('''//*[@id=\"widget_11Videos_48801\"]/div/div/div[''' + str(i+1) + ''']/div[2]/a/h3''')\n",
    "        element_year = browser.find_element_by_xpath('''//*[@id=\"widget_11Videos_48801\"]/div/div/div[''' + str(i+1) + ''']/div[2]/div[1]/span[1]''')\n",
    "        element_genre = browser.find_element_by_xpath('''//*[@id=\"widget_11Videos_48801\"]/div/div/div[''' + str(i+1) + ''']/div[2]/div[1]/span[2]''')\n",
    "        currentList.append((element_name.text, element_year.text, element_genre.text))\n",
    "    clickTarget.click()\n",
    "    for i in range(5,9):\n",
    "        element_name = browser.find_element_by_xpath('''//*[@id=\"widget_11Videos_48801\"]/div/div/div[''' + str(i+1) + ''']/div[2]/a/h3''')\n",
    "        element_year = browser.find_element_by_xpath('''//*[@id=\"widget_11Videos_48801\"]/div/div/div[''' + str(i+1) + ''']/div[2]/div[1]/span[1]''')\n",
    "        element_genre = browser.find_element_by_xpath('''//*[@id=\"widget_11Videos_48801\"]/div/div/div[''' + str(i+1) + ''']/div[2]/div[1]/span[2]''')\n",
    "        currentList.append((element_name.text, element_year.text, element_genre.text))\n",
    "    \n",
    "    clickTarget.click()\n",
    "    for i in range(10,14):\n",
    "        element_name = browser.find_element_by_xpath('''//*[@id=\"widget_11Videos_48801\"]/div/div/div[''' + str(i+1) + ''']/div[2]/a/h3''')\n",
    "        element_year = browser.find_element_by_xpath('''//*[@id=\"widget_11Videos_48801\"]/div/div/div[''' + str(i+1) + ''']/div[2]/div[1]/span[1]''')\n",
    "        element_genre = browser.find_element_by_xpath('''//*[@id=\"widget_11Videos_48801\"]/div/div/div[''' + str(i+1) + ''']/div[2]/div[1]/span[2]''')\n",
    "        currentList.append((element_name.text, element_year.text, element_genre.text))\n",
    "    \n",
    "    clickTarget.click()\n",
    "    for i in range(15,19):\n",
    "        element_name = browser.find_element_by_xpath('''//*[@id=\"widget_11Videos_48801\"]/div/div/div[''' + str(i+1) + ''']/div[2]/a/h3''')\n",
    "        element_year = browser.find_element_by_xpath('''//*[@id=\"widget_11Videos_48801\"]/div/div/div[''' + str(i+1) + ''']/div[2]/div[1]/span[1]''')\n",
    "        element_genre = browser.find_element_by_xpath('''//*[@id=\"widget_11Videos_48801\"]/div/div/div[''' + str(i+1) + ''']/div[2]/div[1]/span[2]''')\n",
    "        currentList.append((element_name.text, element_year.text, element_genre.text))\n",
    "    \n",
    "    clickTarget.click()\n",
    "    for i in range(20,24):\n",
    "        element_name = browser.find_element_by_xpath('''//*[@id=\"widget_11Videos_48801\"]/div/div/div[''' + str(i+1) + ''']/div[2]/a/h3''')\n",
    "        element_year = browser.find_element_by_xpath('''//*[@id=\"widget_11Videos_48801\"]/div/div/div[''' + str(i+1) + ''']/div[2]/div[1]/span[1]''')\n",
    "        element_genre = browser.find_element_by_xpath('''//*[@id=\"widget_11Videos_48801\"]/div/div/div[''' + str(i+1) + ''']/div[2]/div[1]/span[2]''')\n",
    "        currentList.append((element_name.text, element_year.text, element_genre.text))\n",
    "    \n",
    "    print(currentList)\n",
    "    return currentList\n",
    "    \n",
    "write_csv(get_films())"
   ]
  },
  {
   "cell_type": "code",
   "execution_count": null,
   "metadata": {},
   "outputs": [],
   "source": []
  }
 ],
 "metadata": {
  "kernelspec": {
   "display_name": "Python 3",
   "language": "python",
   "name": "python3"
  },
  "language_info": {
   "codemirror_mode": {
    "name": "ipython",
    "version": 3
   },
   "file_extension": ".py",
   "mimetype": "text/x-python",
   "name": "python",
   "nbconvert_exporter": "python",
   "pygments_lexer": "ipython3",
   "version": "3.6.5"
  }
 },
 "nbformat": 4,
 "nbformat_minor": 2
}
