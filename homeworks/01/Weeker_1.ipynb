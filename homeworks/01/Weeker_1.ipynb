{
 "cells": [
  {
   "cell_type": "markdown",
   "metadata": {},
   "source": [
    "# Недельник 1\n",
    "\n",
    "Как было сказано на лекции, на текущей неделе вы получаете ежедневные задания. Система оценки следующая: в первый день(четверг) вы делаете первый pull-request в ветку homework_01. Потом каждый день делаете коммит, он будет автоматически привязывать к pull-request. Если задачка не сделана в течении 2-х дней она сгорает. (Можно четверг сделать в четверг и пятницу)"
   ]
  },
  {
   "cell_type": "markdown",
   "metadata": {},
   "source": [
    "# Четверг"
   ]
  },
  {
   "cell_type": "code",
   "execution_count": 8,
   "metadata": {},
   "outputs": [],
   "source": [
    "#TODO Сделайте калькулятор произвольных выражений, операции следующие: +, -, /, ^, *. скобок нет\n",
    "def calculate(input_str):\n",
    "    currentResult = 0\n",
    "    i = 0\n",
    "    flag = 0\n",
    "    numbers = []\n",
    "    operations = []\n",
    "    countOperations = 0\n",
    "    amount = 0\n",
    "    global tmpStr\n",
    "\n",
    "    currentResult\n",
    "    currentLen = len(input_str)\n",
    "\n",
    "    i = 0\n",
    "    global indexOfNumbers\n",
    "    indexOfNumbers = 0\n",
    "    global indexOfOperations\n",
    "    indexOfOperations = 0\n",
    "    while i < currentLen:\n",
    "        if input_str[i].isdigit():\n",
    "            j = i\n",
    "            tmpStr = ''\n",
    "            flag = 1\n",
    "            #while j < currentLen - 1:\n",
    "            for j in range(i, currentLen):\n",
    "                if flag != 0:\n",
    "                    if input_str[j].isdigit():\n",
    "                        tmpStr += input_str[j]\n",
    "                        i += 1\n",
    "                    else:\n",
    "                        flag = 0\n",
    "                       # i +=1\n",
    "               # j += 1\n",
    "            if tmpStr != '':\n",
    "                el = int(tmpStr)\n",
    "                numbers.append(el)\n",
    "                indexOfNumbers += 1  # how many numbers we have\n",
    "                amount += 1\n",
    "               # i = j\n",
    "            i += 1\n",
    "        else:\n",
    "            if input_str[i] == ' ':\n",
    "                i += 1\n",
    "                tmpStr = ''\n",
    "            else:\n",
    "                if input_str[i] == '*':\n",
    "                    operations.append(input_str[i])\n",
    "                    indexOfOperations += 1\n",
    "                    flag = 1\n",
    "                    i += 1\n",
    "                elif input_str[i] == '/':\n",
    "                    operations.append(input_str[i])\n",
    "                    indexOfOperations += 1\n",
    "                    flag = 1\n",
    "                    i += 1\n",
    "                else:\n",
    "                    operations.append(input_str[i])\n",
    "                    indexOfOperations += 1\n",
    "                    i += 1\n",
    "\n",
    "    # check if we have first priority operations\n",
    "    j = 0\n",
    "    tmpAm = indexOfOperations\n",
    "    flagFP = 0\n",
    "\n",
    "    for j in range(indexOfOperations):\n",
    "        if operations[j] == '*':\n",
    "            numbers[j] = mult(numbers[j], numbers[j + 1])\n",
    "            numbers.pop(j + 1)\n",
    "            indexOfOperations -= 1\n",
    "            indexOfNumbers -= 1\n",
    "            flagFP = 1\n",
    "        if operations[j] == '/':\n",
    "            numbers[j] = div(numbers[j], numbers[j + 1])\n",
    "            numbers.pop(j + 1)\n",
    "            indexOfNumbers -= 1\n",
    "            flagFP = 1\n",
    "\n",
    "    # delete first priority operations\n",
    "    k = indexOfOperations\n",
    "    while k >= 0:\n",
    "        if operations[k] == '*':\n",
    "            operations.pop(k)\n",
    "            indexOfOperations -= 1\n",
    "            k -= 1\n",
    "        if operations[k] == '/':\n",
    "            operations.pop(k)\n",
    "            indexOfOperations -= 1\n",
    "            k -= 1\n",
    "        k -= 1\n",
    "\n",
    "            # do other operation\n",
    "    k = 0\n",
    "    for k in range(indexOfOperations+1):\n",
    "        if operations[k] == '+':\n",
    "            numbers[k] = add(numbers[k], numbers[k + 1])\n",
    "            indexOfNumbers -= 1\n",
    "            numbers.pop(k+1)\n",
    "        if operations[k] == '-':\n",
    "            numbers[k] = sub(numbers[k], numbers[k + 1])\n",
    "            indexOfNumbers -= 1\n",
    "            numbers.pop(k+1)\n",
    "    return numbers[0]\n"
   ]
  },
  {
   "cell_type": "code",
   "execution_count": 9,
   "metadata": {},
   "outputs": [],
   "source": [
    "def add(a, b):\n",
    "    result = a+b\n",
    "    return result"
   ]
  },
  {
   "cell_type": "code",
   "execution_count": 10,
   "metadata": {},
   "outputs": [],
   "source": [
    "def sub(a,b):\n",
    "    result = a-b\n",
    "    return result"
   ]
  },
  {
   "cell_type": "code",
   "execution_count": 11,
   "metadata": {},
   "outputs": [],
   "source": [
    "def mult(a,b):\n",
    "    result = a*b\n",
    "    return result"
   ]
  },
  {
   "cell_type": "code",
   "execution_count": 12,
   "metadata": {},
   "outputs": [],
   "source": [
    "def div(a,b):\n",
    "    result = a//b\n",
    "    return result"
   ]
  },
  {
   "cell_type": "code",
   "execution_count": 13,
   "metadata": {},
   "outputs": [],
   "source": [
    "def xorFunc(a,b):\n",
    "    result = a ^ b\n",
    "    return result"
   ]
  },
  {
   "cell_type": "code",
   "execution_count": 16,
   "metadata": {},
   "outputs": [
    {
     "name": "stdout",
     "output_type": "stream",
     "text": [
      "6\n"
     ]
    },
    {
     "ename": "IndexError",
     "evalue": "list index out of range",
     "output_type": "error",
     "traceback": [
      "\u001b[1;31m---------------------------------------------------------------------------\u001b[0m",
      "\u001b[1;31mIndexError\u001b[0m                                Traceback (most recent call last)",
      "\u001b[1;32m<ipython-input-16-0b28a596fe6a>\u001b[0m in \u001b[0;36m<module>\u001b[1;34m()\u001b[0m\n\u001b[0;32m      1\u001b[0m \u001b[1;32massert\u001b[0m \u001b[0mcalculate\u001b[0m\u001b[1;33m(\u001b[0m\u001b[1;34m\"2 + 2 * 2\"\u001b[0m\u001b[1;33m)\u001b[0m \u001b[1;33m==\u001b[0m \u001b[1;36m6\u001b[0m\u001b[1;33m\u001b[0m\u001b[0m\n\u001b[1;32m----> 2\u001b[1;33m \u001b[1;32massert\u001b[0m \u001b[0mcalculate\u001b[0m\u001b[1;33m(\u001b[0m\u001b[1;34m\"345 / 5 * 21\"\u001b[0m\u001b[1;33m)\u001b[0m \u001b[1;33m==\u001b[0m \u001b[1;36m1449\u001b[0m\u001b[1;33m\u001b[0m\u001b[0m\n\u001b[0m\u001b[0;32m      3\u001b[0m \u001b[1;32massert\u001b[0m \u001b[0mcalculate\u001b[0m\u001b[1;33m(\u001b[0m\u001b[1;34m\"3^3 - 10 + 41 * 3\"\u001b[0m\u001b[1;33m)\u001b[0m \u001b[1;33m==\u001b[0m \u001b[1;36m119\u001b[0m\u001b[1;33m\u001b[0m\u001b[0m\n\u001b[0;32m      4\u001b[0m \u001b[1;32massert\u001b[0m \u001b[0mcalculate\u001b[0m\u001b[1;33m(\u001b[0m\u001b[1;34m\"42 / 7 * 32\"\u001b[0m\u001b[1;33m)\u001b[0m \u001b[1;33m==\u001b[0m \u001b[1;36m192.0\u001b[0m\u001b[1;33m\u001b[0m\u001b[0m\n\u001b[0;32m      5\u001b[0m \u001b[1;32massert\u001b[0m \u001b[0mcalculate\u001b[0m \u001b[1;33m(\u001b[0m\u001b[1;34m\"5 + 15\"\u001b[0m\u001b[1;33m)\u001b[0m \u001b[1;33m==\u001b[0m \u001b[1;36m20\u001b[0m\u001b[1;33m\u001b[0m\u001b[0m\n",
      "\u001b[1;32m<ipython-input-8-a5ba768f17fe>\u001b[0m in \u001b[0;36mcalculate\u001b[1;34m(input_str)\u001b[0m\n\u001b[0;32m     67\u001b[0m     \u001b[1;32mfor\u001b[0m \u001b[0mj\u001b[0m \u001b[1;32min\u001b[0m \u001b[0mrange\u001b[0m\u001b[1;33m(\u001b[0m\u001b[0mindexOfOperations\u001b[0m\u001b[1;33m)\u001b[0m\u001b[1;33m:\u001b[0m\u001b[1;33m\u001b[0m\u001b[0m\n\u001b[0;32m     68\u001b[0m         \u001b[1;32mif\u001b[0m \u001b[0moperations\u001b[0m\u001b[1;33m[\u001b[0m\u001b[0mj\u001b[0m\u001b[1;33m]\u001b[0m \u001b[1;33m==\u001b[0m \u001b[1;34m'*'\u001b[0m\u001b[1;33m:\u001b[0m\u001b[1;33m\u001b[0m\u001b[0m\n\u001b[1;32m---> 69\u001b[1;33m             \u001b[0mnumbers\u001b[0m\u001b[1;33m[\u001b[0m\u001b[0mj\u001b[0m\u001b[1;33m]\u001b[0m \u001b[1;33m=\u001b[0m \u001b[0mmult\u001b[0m\u001b[1;33m(\u001b[0m\u001b[0mnumbers\u001b[0m\u001b[1;33m[\u001b[0m\u001b[0mj\u001b[0m\u001b[1;33m]\u001b[0m\u001b[1;33m,\u001b[0m \u001b[0mnumbers\u001b[0m\u001b[1;33m[\u001b[0m\u001b[0mj\u001b[0m \u001b[1;33m+\u001b[0m \u001b[1;36m1\u001b[0m\u001b[1;33m]\u001b[0m\u001b[1;33m)\u001b[0m\u001b[1;33m\u001b[0m\u001b[0m\n\u001b[0m\u001b[0;32m     70\u001b[0m             \u001b[0mnumbers\u001b[0m\u001b[1;33m.\u001b[0m\u001b[0mpop\u001b[0m\u001b[1;33m(\u001b[0m\u001b[0mj\u001b[0m \u001b[1;33m+\u001b[0m \u001b[1;36m1\u001b[0m\u001b[1;33m)\u001b[0m\u001b[1;33m\u001b[0m\u001b[0m\n\u001b[0;32m     71\u001b[0m             \u001b[0mindexOfOperations\u001b[0m \u001b[1;33m-=\u001b[0m \u001b[1;36m1\u001b[0m\u001b[1;33m\u001b[0m\u001b[0m\n",
      "\u001b[1;31mIndexError\u001b[0m: list index out of range"
     ]
    }
   ],
   "source": [
    "assert calculate(\"2 + 2 * 2\") == 6\n",
    "assert calculate(\"345 / 5 * 21\") == 1449\n",
    "assert calculate(\"3^3 - 10 + 41 * 3\") == 119\n",
    "assert calculate(\"42 / 7 * 32\") == 192.0\n",
    "assert calculate (\"5 + 15\") == 20\n",
    "#TODO Дополнить еще 2-мя своими тестами"
   ]
  },
  {
   "cell_type": "markdown",
   "metadata": {},
   "source": [
    "# Пятница"
   ]
  },
  {
   "cell_type": "code",
   "execution_count": null,
   "metadata": {},
   "outputs": [],
   "source": [
    "#TODO метод разворачивающий строку HE2LO -> HELLO (число означает сколько раз встречается буква)\n",
    "def transform_string(inp_string):\n",
    "    resultString = ''\n",
    "    length = len(inp_string)\n",
    "    i = 0\n",
    "    while i < length:\n",
    "        if inp_string[i].isdigit():\n",
    "            j = i\n",
    "            n = ''\n",
    "            endInt = j\n",
    "            flag = 1\n",
    "            amountOfLetter = 0\n",
    "            while j < length:\n",
    "                if flag != 0:\n",
    "                    if inp_string[j].isdigit():\n",
    "                        n = n + inp_string[j]\n",
    "                        endInt += 1\n",
    "                        flag = 0\n",
    "                    else:\n",
    "                        flag = 0\n",
    "                    j += 1\n",
    "            if n != '':\n",
    "                amountOfLetter = int(n)\n",
    "            tmpStr = ''\n",
    "            k = 0\n",
    "            for k in range (amountOfLetter):\n",
    "                tmpStr = tmpStr + inp_string[endInt]\n",
    "            resultString = resultString + tmpStr\n",
    "            i = endInt\n",
    "        else:\n",
    "            resultString += inp_string[i]\n",
    "        i = i + 1\n",
    "    return resultString"
   ]
  },
  {
   "cell_type": "code",
   "execution_count": null,
   "metadata": {},
   "outputs": [],
   "source": [
    "assert transform_string(\"HE2LO\") == \"HELLO\"\n",
    "assert transform_string(\"HI\") == \"HI\"\n",
    "assert transform_string(\"пр12ивет\") == \"приииииииииииивет\"\n",
    "assert transform_string(\"2л3у78н65тик\") == 'ллуууннннннннннннннннннннннннннннннннннннннннннннннннннннннннннннннннннннннннннннннтттттттттттттттттттттттттттттттттттттттттттттттттттттттттттттттттик'\n"
   ]
  },
  {
   "cell_type": "markdown",
   "metadata": {},
   "source": [
    "# Суббота"
   ]
  },
  {
   "cell_type": "code",
   "execution_count": 21,
   "metadata": {},
   "outputs": [],
   "source": [
    "#TODO метод выводящий статистику по строке, кол-во гласных, согласных, цифр, строчных букв, прописных букв\n",
    "def string_stat(inp_string):\n",
    "    vowelBig = ('Б','В','Г','Д','Ж','З','К','Л','М','Н','П','Р','С','Т','Ф','Х','Ц','Ч','Ш','Щ')\n",
    "    vowelLittle = ('б','в','г','д','ж','з','к','л','м','н','п','р','с','т','ф','х','ц','ш','щ')\n",
    "    consonantBig = ('А','Е','Ё','И','О','У','Э','Ю','Я')\n",
    "    consonantLittle = ('а','е','ё','и','о','у','ю','э','я')\n",
    "    number = ('0','1','2','3','4','5','6','7','8','9')\n",
    "    \n",
    "    first = 0 #consonant\n",
    "    second = 0 #vowel\n",
    "    third = 0 #numbers\n",
    "    fourth = 0 #little\n",
    "    fifth = 0 #big\n",
    "    \n",
    "    #what type do I need to use\n",
    "    \n",
    "    i = 0\n",
    "    for i in range (len(inp_string)):\n",
    "        if inp_string[i] in consonantLittle:\n",
    "            first += 1\n",
    "        if inp_string[i] in consonantBig:\n",
    "            first += 1\n",
    "        if inp_string[i] in vowelBig:\n",
    "            second += 1\n",
    "        if  inp_string[i] in vowelLittle:\n",
    "            second += 1\n",
    "        if inp_string[i] in number:\n",
    "            third += 1\n",
    "        if inp_string[i] in consonantLittle:\n",
    "            fourth += 1\n",
    "        if inp_string[i] in vowelLittle:\n",
    "            fourth += 1\n",
    "        if inp_string[4] in consonantLittle:\n",
    "            fifth += 1\n",
    "        if inp_string[i] in vowelBig:\n",
    "            fifth += 1\n",
    "\n",
    "    res = (first, second, third, fourth, fifth)\n",
    "    return res"
   ]
  },
  {
   "cell_type": "code",
   "execution_count": 22,
   "metadata": {},
   "outputs": [],
   "source": [
    "assert string_stat(\"Тевирп\") == (2, 4, 0, 5, 1)\n",
    "assert string_stat(\"КоРоВа4\") == (3, 3, 1, 3, 3)\n",
    "\n",
    "#TODO 2 своих теста"
   ]
  },
  {
   "cell_type": "markdown",
   "metadata": {},
   "source": [
    "# Воскресенье - ВЫХОДНОЙ"
   ]
  },
  {
   "cell_type": "markdown",
   "metadata": {},
   "source": [
    "# Понедельник"
   ]
  },
  {
   "cell_type": "code",
   "execution_count": null,
   "metadata": {},
   "outputs": [],
   "source": [
    "#TODO инвертируйте словарь из k - [v_1, v_2] в v_1 [k_1]\n",
    "def dict_inverter(input_dict):\n",
    "    return {}"
   ]
  },
  {
   "cell_type": "code",
   "execution_count": null,
   "metadata": {},
   "outputs": [],
   "source": [
    "assert dict_inverter({\"mango\" : [\"eatable\"], \"pillow\": [\"sleepable\"]}) == {\"eatable\": \"mango\", \"sleepable\": \"pillow\"}\n",
    "assert dict_inverter({\"mango\" : [\"eatable\", \"readable\"]}) == {\"readable\":\"mango\", \"eatable\":\"mango\"}\n",
    "assert dict_inverter({\"mango\" : [\"eatable\"], \"banana\": [\"eatable\"]}) == {\"eatable\": [\"mango\", \"banana\"]}\n",
    "\n",
    "#TODO Один свой тест"
   ]
  },
  {
   "cell_type": "markdown",
   "metadata": {},
   "source": [
    "# Вторник"
   ]
  },
  {
   "cell_type": "code",
   "execution_count": null,
   "metadata": {},
   "outputs": [],
   "source": [
    "#TODO вывести уникальные элементы массива\n",
    "def uniq_array(input_arr):\n",
    "    return []"
   ]
  },
  {
   "cell_type": "code",
   "execution_count": null,
   "metadata": {},
   "outputs": [],
   "source": [
    "assert uniq_array([0]) == [0]\n",
    "assert uniq_array([0, 1, 2, 3]) == [0, 1, 2, 3]\n",
    "assert uniq_array([\"f\", \"t\", \"f\"]) == ['t', 'f']\n",
    "assert uniq_array(['rt', 'rt']) == ['rt']"
   ]
  }
 ],
 "metadata": {
  "kernelspec": {
   "display_name": "Python 3",
   "language": "python",
   "name": "python3"
  },
  "language_info": {
   "codemirror_mode": {
    "name": "ipython",
    "version": 3
   },
   "file_extension": ".py",
   "mimetype": "text/x-python",
   "name": "python",
   "nbconvert_exporter": "python",
   "pygments_lexer": "ipython3",
   "version": "3.6.5"
  }
 },
 "nbformat": 4,
 "nbformat_minor": 2
}
