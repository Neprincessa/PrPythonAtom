{
 "cells": [
  {
   "cell_type": "markdown",
   "metadata": {},
   "source": [
    "# Недельник 1\n",
    "\n",
    "Как было сказано на лекции, на текущей неделе вы получаете ежедневные задания. Система оценки следующая: в первый день(четверг) вы делаете первый pull-request в ветку homework_01. Потом каждый день делаете коммит, он будет автоматически привязывать к pull-request. Если задачка не сделана в течении 2-х дней она сгорает. (Можно четверг сделать в четверг и пятницу)"
   ]
  },
  {
   "cell_type": "markdown",
   "metadata": {},
   "source": [
    "# Четверг"
   ]
  },
  {
   "cell_type": "code",
   "execution_count": 1,
   "metadata": {},
   "outputs": [],
   "source": [
    "#TODO Сделайте калькулятор произвольных выражений, операции следующие: +, -, /, ^, *. скобок нет\n",
    "def calculate(input_str):\n",
    "    currentResult = 0\n",
    "    i = 0\n",
    "    flag = 0\n",
    "    numbers = []\n",
    "    operations= []\n",
    "    countOperations = 0\n",
    "    amount = 0\n",
    "    global tmpStr\n",
    "    \n",
    "    currentResult\n",
    "    currentLen = len(input_str)\n",
    "   # print(\"CurLEn\")\n",
    "   # print(currentLen)\n",
    "    #LenWithoutSpaces = currentLen\n",
    "    #for i in range(currentLen):\n",
    "     #   if input_str[i] == ' ':\n",
    "     #       input_str[i].replace(' ',\"\")\n",
    "      #      LenWithoutSpaces -= 1\n",
    "   # currentLen = LenWithoutSpaces\n",
    "   # print(\"RealLEn\")\n",
    "   # print(currentLen)\n",
    "    \n",
    "    i = 0\n",
    "    indexForNumbers = 0\n",
    "    indexForOperations = 0\n",
    "    while i < range(currentLen):\n",
    "        if input_str[i].isdigit():\n",
    "            j = i+1\n",
    "            tmpStr = input_str[i]\n",
    "            for j in range(currentLen - 1):\n",
    "                if inp_str[j].isdigit():\n",
    "                        tmpStr += inp_str[j]\n",
    "                        i += 1\n",
    "            el = float(tmpStr)\n",
    "            numbers.append(el)\n",
    "            indexOfNumbers += 1 #how many numbers we have\n",
    "            amount += 1\n",
    "        i += 1\n",
    "        else:\n",
    "            if input_str[i] == ' ':\n",
    "                i += 1\n",
    "            else:\n",
    "                if input_str[i] == '*':\n",
    "                    operations.append(input_str[i])\n",
    "                    indexOfOperations += 1\n",
    "                    flag = 1\n",
    "                    i += 1\n",
    "                elif input_str[i] == '/':\n",
    "                    operations.append(input_str[i])\n",
    "                    indexOfOperations += 1\n",
    "                    flag = 1\n",
    "                    i += 1\n",
    "                else: \n",
    "                    operations.append(input_str[i])\n",
    "                    indexOfOperations += 1\n",
    "                    i += 1\n",
    "                    \n",
    "                    \n",
    "    #check if we have first priority operations\n",
    "    j = 0\n",
    "    tmpAm = indexOfOperations\n",
    "    flagFP = 0\n",
    "    \n",
    "    for j in range(indexOfOperations):\n",
    "        if operations[j] == '*':\n",
    "            numbers[j] = mult(numbers[j], numbers[j+1])\n",
    "            numbers.pop(j+1)\n",
    "            indexOfOperations -= 1\n",
    "            indexOfNumbers -= 1\n",
    "            flagFP = 1\n",
    "        if operations[j] == '/':\n",
    "            numbers[j] = div(numbers[j], numbers[j+1])\n",
    "            numbers.pop(j+1)\n",
    "            indexOfNumbers -= 1\n",
    "            flagFP = 1\n",
    "            \n",
    "    #delete first priority operations\n",
    "    k = indexOfOperations - 1\n",
    "    while k >= 0:\n",
    "        if operations[k] == '*':\n",
    "            operations.pop(k)\n",
    "            indexOfOperations -= 1\n",
    "        if operations[k] == 'k':\n",
    "            operations[k] == '/':\n",
    "            operations.pop(k)\n",
    "            indexOfOperations -= 1    \n",
    "    #do other operation\n",
    "    k = 0\n",
    "    for k in range(indexOfOperations)\n",
    "        if operations[k] == '+':\n",
    "            numbers[k] = add(numbers[k], numbers[k+1])\n",
    "            indexOfNumbers -= 1\n",
    "            numbers.pop(k)\n",
    "        if operations[k] == '-':\n",
    "            numbers[k] = sub(numbers[k], numbers[k+1])\n",
    "            indexOfNumbers -= 1\n",
    "            numbers.pop(k)\n",
    "    \n",
    "    \n",
    "    print(\"RESULT:\")\n",
    "    print(numbers[0])\n",
    "    return numbers[0]"
   ]
  },
  {
   "cell_type": "code",
   "execution_count": null,
   "metadata": {},
   "outputs": [],
   "source": [
    "def add(a, b):\n",
    "    result = a+b\n",
    "    print(\"sum\")\n",
    "    print(result)\n",
    "    return result"
   ]
  },
  {
   "cell_type": "code",
   "execution_count": null,
   "metadata": {},
   "outputs": [],
   "source": [
    "def sub(a,b):\n",
    "    result = a-b\n",
    "    return result"
   ]
  },
  {
   "cell_type": "code",
   "execution_count": 2,
   "metadata": {},
   "outputs": [],
   "source": [
    "def mult(a,b):\n",
    "    result = a*b\n",
    "    print(\"mult\")\n",
    "    print(result)\n",
    "    return result"
   ]
  },
  {
   "cell_type": "code",
   "execution_count": 3,
   "metadata": {},
   "outputs": [],
   "source": [
    "def div(a,b):\n",
    "    result = a/b\n",
    "    return result"
   ]
  },
  {
   "cell_type": "code",
   "execution_count": 4,
   "metadata": {},
   "outputs": [],
   "source": [
    "def xorFunc(a,b):\n",
    "    result = a ^ b\n",
    "    return result"
   ]
  },
  {
   "cell_type": "code",
   "execution_count": 5,
   "metadata": {},
   "outputs": [
    {
     "ename": "NameError",
     "evalue": "name 'calculate' is not defined",
     "output_type": "error",
     "traceback": [
      "\u001b[1;31m---------------------------------------------------------------------------\u001b[0m",
      "\u001b[1;31mNameError\u001b[0m                                 Traceback (most recent call last)",
      "\u001b[1;32m<ipython-input-5-0fcdb26700cb>\u001b[0m in \u001b[0;36m<module>\u001b[1;34m()\u001b[0m\n\u001b[1;32m----> 1\u001b[1;33m \u001b[1;32massert\u001b[0m \u001b[0mcalculate\u001b[0m\u001b[1;33m(\u001b[0m\u001b[1;34m\"2 + 2 * 2\"\u001b[0m\u001b[1;33m)\u001b[0m \u001b[1;33m==\u001b[0m \u001b[1;36m6\u001b[0m\u001b[1;33m\u001b[0m\u001b[0m\n\u001b[0m\u001b[0;32m      2\u001b[0m \u001b[1;32massert\u001b[0m \u001b[0mcalculate\u001b[0m\u001b[1;33m(\u001b[0m\u001b[1;34m\"345 / 5 * 21\"\u001b[0m\u001b[1;33m)\u001b[0m \u001b[1;33m==\u001b[0m \u001b[1;36m1449.\u001b[0m\u001b[1;33m\u001b[0m\u001b[0m\n\u001b[0;32m      3\u001b[0m \u001b[1;32massert\u001b[0m \u001b[0mcalculate\u001b[0m\u001b[1;33m(\u001b[0m\u001b[1;34m\"3^3 - 10 + 41 * 3\"\u001b[0m\u001b[1;33m)\u001b[0m \u001b[1;33m==\u001b[0m \u001b[1;36m119\u001b[0m\u001b[1;33m\u001b[0m\u001b[0m\n\u001b[0;32m      4\u001b[0m \u001b[1;32massert\u001b[0m \u001b[0mcalculate\u001b[0m\u001b[1;33m(\u001b[0m\u001b[1;34m\"42 / 7 * 32\"\u001b[0m\u001b[1;33m)\u001b[0m \u001b[1;33m==\u001b[0m \u001b[1;36m192.0\u001b[0m\u001b[1;33m\u001b[0m\u001b[0m\n\u001b[0;32m      5\u001b[0m \u001b[1;33m\u001b[0m\u001b[0m\n",
      "\u001b[1;31mNameError\u001b[0m: name 'calculate' is not defined"
     ]
    }
   ],
   "source": [
    "assert calculate(\"2 + 2 * 2\") == 6\n",
    "assert calculate(\"345 / 5 * 21\") == 1449.\n",
    "assert calculate(\"3^3 - 10 + 41 * 3\") == 119\n",
    "assert calculate(\"42 / 7 * 32\") == 192.0\n",
    "\n",
    "#TODO Дополнить еще 2-мя своими тестами"
   ]
  },
  {
   "cell_type": "markdown",
   "metadata": {},
   "source": [
    "# Пятница"
   ]
  },
  {
   "cell_type": "code",
   "execution_count": 1,
   "metadata": {},
   "outputs": [],
   "source": [
    "#TODO метод разворачивающий строку HE2LO -> HELLO (число означает сколько раз встречается буква)\n",
    "def transform_string(inp_string):\n",
    "    return 0"
   ]
  },
  {
   "cell_type": "code",
   "execution_count": null,
   "metadata": {},
   "outputs": [],
   "source": [
    "assert transform_string(\"HE2LO\") == \"HELLO\"\n",
    "assert transform_string(\"HI\") == \"HI\"\n",
    "assert transform_string(\"пр12ивет\") == \"приииииииииииивет\"\n",
    "assert transform_string(\"2л3у78н65тик\") == 'ллуууннннннннннннннннннннннннннннннннннннннннннннннннннннннннннннннннннннннннннннннтттттттттттттттттттттттттттттттттттттттттттттттттттттттттттттттттик'\n",
    "\n",
    "#TODO Дописать 2 своих теста"
   ]
  },
  {
   "cell_type": "markdown",
   "metadata": {},
   "source": [
    "# Суббота"
   ]
  },
  {
   "cell_type": "code",
   "execution_count": null,
   "metadata": {},
   "outputs": [],
   "source": [
    "#TODO метод выводящий статистику по строке, кол-во гласных, согласных, цифр, строчных букв, прописных букв\n",
    "def string_stat(inp_string):\n",
    "    return 0"
   ]
  },
  {
   "cell_type": "code",
   "execution_count": null,
   "metadata": {},
   "outputs": [],
   "source": [
    "assert string_stat(\"Тевирп\") == (2, 4, 0, 5, 1)\n",
    "assert string_stat(\"КоРоВа4\") == (3, 3, 1, 3, 3)\n",
    "\n",
    "#TODO 2 своих теста"
   ]
  },
  {
   "cell_type": "markdown",
   "metadata": {},
   "source": [
    "# Воскресенье - ВЫХОДНОЙ"
   ]
  },
  {
   "cell_type": "markdown",
   "metadata": {},
   "source": [
    "# Понедельник"
   ]
  },
  {
   "cell_type": "code",
   "execution_count": null,
   "metadata": {},
   "outputs": [],
   "source": [
    "#TODO инвертируйте словарь из k - [v_1, v_2] в v_1 [k_1]\n",
    "def dict_inverter(input_dict):\n",
    "    return {}"
   ]
  },
  {
   "cell_type": "code",
   "execution_count": null,
   "metadata": {},
   "outputs": [],
   "source": [
    "assert dict_inverter({\"mango\" : [\"eatable\"], \"pillow\": [\"sleepable\"]}) == {\"eatable\": \"mango\", \"sleepable\": \"pillow\"}\n",
    "assert dict_inverter({\"mango\" : [\"eatable\", \"readable\"]}) == {\"readable\":\"mango\", \"eatable\":\"mango\"}\n",
    "assert dict_inverter({\"mango\" : [\"eatable\"], \"banana\": [\"eatable\"]}) == {\"eatable\": [\"mango\", \"banana\"]}\n",
    "\n",
    "#TODO Один свой тест"
   ]
  },
  {
   "cell_type": "markdown",
   "metadata": {},
   "source": [
    "# Вторник"
   ]
  },
  {
   "cell_type": "code",
   "execution_count": null,
   "metadata": {},
   "outputs": [],
   "source": [
    "#TODO вывести уникальные элементы массива\n",
    "def uniq_array(input_arr):\n",
    "    return []"
   ]
  },
  {
   "cell_type": "code",
   "execution_count": null,
   "metadata": {},
   "outputs": [],
   "source": [
    "assert uniq_array([0]) == [0]\n",
    "assert uniq_array([0, 1, 2, 3]) == [0, 1, 2, 3]\n",
    "assert uniq_array([\"f\", \"t\", \"f\"]) == ['t', 'f']\n",
    "assert uniq_array(['rt', 'rt']) == ['rt']"
   ]
  }
 ],
 "metadata": {
  "kernelspec": {
   "display_name": "Python 3",
   "language": "python",
   "name": "python3"
  }
 },
 "nbformat": 4,
 "nbformat_minor": 2
}
