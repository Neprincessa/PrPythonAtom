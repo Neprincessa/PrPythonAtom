{
 "cells": [
  {
   "cell_type": "code",
   "execution_count": 1,
   "metadata": {},
   "outputs": [
    {
     "name": "stdout",
     "output_type": "stream",
     "text": [
      "Requirement already satisfied: IMDbPy in c:\\program files\\python37\\lib\\site-packages (6.6)\n",
      "Requirement already satisfied: lxml in c:\\program files\\python37\\lib\\site-packages (from IMDbPy) (4.2.5)\n",
      "Requirement already satisfied: SQLAlchemy in c:\\program files\\python37\\lib\\site-packages (from IMDbPy) (1.2.14)\n"
     ]
    }
   ],
   "source": [
    "!pip3 install IMDbPy"
   ]
  },
  {
   "cell_type": "code",
   "execution_count": 1,
   "metadata": {},
   "outputs": [],
   "source": [
    "from imdb import IMDb\n",
    "import csv\n",
    "import pandas as pd"
   ]
  },
  {
   "cell_type": "code",
   "execution_count": 2,
   "metadata": {},
   "outputs": [],
   "source": [
    "imbdObj = IMDb()\n",
    "top250 = imbdObj.get_top250_movies()"
   ]
  },
  {
   "cell_type": "code",
   "execution_count": 15,
   "metadata": {},
   "outputs": [],
   "source": [
    "# возвращает список из 250 лучшх фильмов\n",
    "# каждое значение списка - кортеж из названия, актеров и жанров\n",
    "def get_movies():\n",
    "    movies = []\n",
    "    #  TODO: изменить 30 на 250\n",
    "    for i in range(0,5):\n",
    "        movie = top250[i]\n",
    "        imbdObj.update(movie, info = ['main'])\n",
    "        title = movie.get('title')\n",
    "        cast = list(map(lambda x: x['name'], movie.get('cast')))\n",
    "        genres = movie.get('genres')\n",
    "        URL = imbdObj.get_imdbURL(movie) #URL for first result\n",
    "        movies.append((title, cast, genres, URL))\n",
    "    return movies"
   ]
  },
  {
   "cell_type": "code",
   "execution_count": 20,
   "metadata": {},
   "outputs": [],
   "source": [
    "# сохранение списка в .csv файл\n",
    "movies = get_movies()\n",
    "dataFrame = pd.DataFrame.from_records(movies, columns=['Title','Cast','Genres','URL'])\n",
    "dataFrame.to_csv('top250_movies.csv',index=False)"
   ]
  },
  {
   "cell_type": "code",
   "execution_count": 21,
   "metadata": {},
   "outputs": [
    {
     "data": {
      "text/html": [
       "<div>\n",
       "<style scoped>\n",
       "    .dataframe tbody tr th:only-of-type {\n",
       "        vertical-align: middle;\n",
       "    }\n",
       "\n",
       "    .dataframe tbody tr th {\n",
       "        vertical-align: top;\n",
       "    }\n",
       "\n",
       "    .dataframe thead th {\n",
       "        text-align: right;\n",
       "    }\n",
       "</style>\n",
       "<table border=\"1\" class=\"dataframe\">\n",
       "  <thead>\n",
       "    <tr style=\"text-align: right;\">\n",
       "      <th></th>\n",
       "      <th>Title</th>\n",
       "      <th>Cast</th>\n",
       "      <th>Genres</th>\n",
       "      <th>URL</th>\n",
       "    </tr>\n",
       "  </thead>\n",
       "  <tbody>\n",
       "    <tr>\n",
       "      <th>0</th>\n",
       "      <td>The Shawshank Redemption</td>\n",
       "      <td>['Tim Robbins', 'Morgan Freeman', 'Bob Gunton'...</td>\n",
       "      <td>['Drama']</td>\n",
       "      <td>http://www.imdb.com/title/tt0111161/</td>\n",
       "    </tr>\n",
       "    <tr>\n",
       "      <th>1</th>\n",
       "      <td>The Godfather</td>\n",
       "      <td>['Marlon Brando', 'Al Pacino', 'James Caan', '...</td>\n",
       "      <td>['Crime', 'Drama']</td>\n",
       "      <td>http://www.imdb.com/title/tt0068646/</td>\n",
       "    </tr>\n",
       "    <tr>\n",
       "      <th>2</th>\n",
       "      <td>The Godfather: Part II</td>\n",
       "      <td>['Al Pacino', 'Robert Duvall', 'Diane Keaton',...</td>\n",
       "      <td>['Crime', 'Drama']</td>\n",
       "      <td>http://www.imdb.com/title/tt0071562/</td>\n",
       "    </tr>\n",
       "    <tr>\n",
       "      <th>3</th>\n",
       "      <td>The Dark Knight</td>\n",
       "      <td>['Christian Bale', 'Heath Ledger', 'Aaron Eckh...</td>\n",
       "      <td>['Action', 'Crime', 'Drama', 'Thriller']</td>\n",
       "      <td>http://www.imdb.com/title/tt0468569/</td>\n",
       "    </tr>\n",
       "    <tr>\n",
       "      <th>4</th>\n",
       "      <td>12 Angry Men</td>\n",
       "      <td>['Martin Balsam', 'John Fiedler', 'Lee J. Cobb...</td>\n",
       "      <td>['Crime', 'Drama']</td>\n",
       "      <td>http://www.imdb.com/title/tt0050083/</td>\n",
       "    </tr>\n",
       "  </tbody>\n",
       "</table>\n",
       "</div>"
      ],
      "text/plain": [
       "                      Title  \\\n",
       "0  The Shawshank Redemption   \n",
       "1             The Godfather   \n",
       "2    The Godfather: Part II   \n",
       "3           The Dark Knight   \n",
       "4              12 Angry Men   \n",
       "\n",
       "                                                Cast  \\\n",
       "0  ['Tim Robbins', 'Morgan Freeman', 'Bob Gunton'...   \n",
       "1  ['Marlon Brando', 'Al Pacino', 'James Caan', '...   \n",
       "2  ['Al Pacino', 'Robert Duvall', 'Diane Keaton',...   \n",
       "3  ['Christian Bale', 'Heath Ledger', 'Aaron Eckh...   \n",
       "4  ['Martin Balsam', 'John Fiedler', 'Lee J. Cobb...   \n",
       "\n",
       "                                     Genres  \\\n",
       "0                                 ['Drama']   \n",
       "1                        ['Crime', 'Drama']   \n",
       "2                        ['Crime', 'Drama']   \n",
       "3  ['Action', 'Crime', 'Drama', 'Thriller']   \n",
       "4                        ['Crime', 'Drama']   \n",
       "\n",
       "                                    URL  \n",
       "0  http://www.imdb.com/title/tt0111161/  \n",
       "1  http://www.imdb.com/title/tt0068646/  \n",
       "2  http://www.imdb.com/title/tt0071562/  \n",
       "3  http://www.imdb.com/title/tt0468569/  \n",
       "4  http://www.imdb.com/title/tt0050083/  "
      ]
     },
     "execution_count": 21,
     "metadata": {},
     "output_type": "execute_result"
    }
   ],
   "source": [
    "# чтение из .csv файла\n",
    "reader = pd.read_csv('top250_movies.csv')\n",
    "reader"
   ]
  },
  {
   "cell_type": "code",
   "execution_count": 25,
   "metadata": {},
   "outputs": [
    {
     "name": "stdout",
     "output_type": "stream",
     "text": [
      "The Godfather: Part II\n",
      "['Al Pacino', 'Robert Duvall', 'Diane Keaton', 'Robert De Niro', 'John Cazale', 'Talia Shire', 'Lee Strasberg', 'Michael V. Gazzo', 'G.D. Spradlin', 'Richard Bright', 'Gastone Moschin', 'Tom Rosqui', 'Bruno Kirby', 'Frank Sivero', 'Francesca De Sapio', 'Morgana King', 'Marianna Hill', 'Leopoldo Trieste', 'Dominic Chianese', 'Amerigo Tot', 'Troy Donahue', 'John Aprea', 'Joe Spinell', 'James Caan', 'Abe Vigoda', 'Tere Livrano', 'Gianni Russo', 'Maria Carta', 'Oreste Baldini', 'Giuseppe Sillato', 'Mario Cotone', 'James Gounaris', 'Fay Spain', 'Harry Dean Stanton', 'James Murdock', 'Carmine Caridi', 'Danny Aiello', 'Carmine Foresta', 'Nick Discenza', 'Joseph Medaglia', 'William Bowers', 'Joseph Della Sorte', 'Carmen Argenziano', 'Joe Lo Grippo', 'Ezio Flagello', 'Livio Giorgi', 'Kathleen Beller', 'Saveria Mazzola', 'Tito Alba', 'Johnny Naranjo', 'Elda Maida', 'Salvatore Po', 'Ignazio Pappalardo', 'Andrea Maugeri', 'Peter LaCorte', 'Vincent Coppola', 'Peter Donat', 'Tom Dahlgren', 'Paul B. Brown', 'Phil Feldman', 'Roger Corman', 'Ivonne Coll', 'Joe De Nicola', 'Edward Van Sickle', 'Gabriella Belloni', 'Richard Watson', 'Venancia Grangerard', 'Erica Yohn', 'Teresa Tirelli', 'Jack Berle', 'Dick Cherney', 'Italia Coppola', 'Roman Coppola', 'Sofia Coppola', 'Victor Pujols Faneyte', 'Julie Gregg', 'Larry Guardino', 'George Holmes', 'Buck Houghton', 'Shep Houghton', 'Karyn Jansen', 'Kathryn Janssen', 'Ken Koc', 'Shô Kosugi', 'Gary Kurtz', 'Alan Lee', 'Laura Lyons', 'Paul Martino Jr.', 'Connie Mason', 'Richard Matheson', 'John Megna', 'Frank Pesce', 'Jay Rasumny', 'Harrison Ressler', 'Al Roberts', 'Hank Robinson', 'Carmelo Russo', 'George Simmons', 'Tony Sirico', 'Filomena Spagnuolo', 'Nick Stevens', 'Arthur Tovey', 'Julian Voloshin', 'Wally West', 'Judith Woodbury']\n",
      "['Crime', 'Drama']\n",
      "http://www.imdb.com/title/tt0071562/\n"
     ]
    }
   ],
   "source": [
    "# берем все значениея, вызываем tolist() - получаем фактически то, что возвращает метод get_movies()\n",
    "loadedMovies = reader.values.tolist()\n",
    "# это обычный list уже, можно обращаться по индексу\n",
    "selectedMovie = loadedMovies[2]\n",
    "# может есть какой-то более умный способ по именованию полей в кортеже, на я такого не знаю\n",
    "# потому, на нулевом месте - название у нас было, на первом - актеры, на втором - жанры\n",
    "# исходя из этого - обращаться можно так же по индексу\n",
    "selectedMovieName = selectedMovie[0]\n",
    "selectedMovieActors = selectedMovie[1]\n",
    "selectedMovieGenres = selectedMovie[2]\n",
    "selectedMovieURL = selectedMovie[3]\n",
    "print(selectedMovieName)\n",
    "print(selectedMovieActors)\n",
    "print(selectedMovieGenres)\n",
    "print(selectedMovieURL)"
   ]
  },
  {
   "cell_type": "code",
   "execution_count": null,
   "metadata": {
    "collapsed": true
   },
   "outputs": [],
   "source": []
  }
 ],
 "metadata": {
  "kernelspec": {
   "display_name": "Python 3",
   "language": "python",
   "name": "python3"
  },
  "language_info": {
   "codemirror_mode": {
    "name": "ipython",
    "version": 3
   },
   "file_extension": ".py",
   "mimetype": "text/x-python",
   "name": "python",
   "nbconvert_exporter": "python",
   "pygments_lexer": "ipython3",
   "version": "3.6.5"
  }
 },
 "nbformat": 4,
 "nbformat_minor": 2
}
